{
 "cells": [
  {
   "cell_type": "code",
   "execution_count": null,
   "metadata": {},
   "outputs": [
    {
     "name": "stdout",
     "output_type": "stream",
     "text": [
      "[{'measurement': 'sensordata', 'fields': {'temperature': 7, 'tvoc': 11, 'co2': 49, 'humidity': 60, 'wetness': 84}, 'tags': {'user': 'umetsu', 'id': '0'}}]\n",
      "[{'measurement': 'sensordata', 'fields': {'temperature': 42, 'tvoc': 48, 'co2': 84, 'humidity': 99, 'wetness': 2}, 'tags': {'user': 'umetsu', 'id': '0'}}]\n",
      "[{'measurement': 'sensordata', 'fields': {'temperature': 89, 'tvoc': 67, 'co2': 65, 'humidity': 31, 'wetness': 44}, 'tags': {'user': 'umetsu', 'id': '0'}}]\n",
      "[{'measurement': 'sensordata', 'fields': {'temperature': 41, 'tvoc': 95, 'co2': 44, 'humidity': 0, 'wetness': 30}, 'tags': {'user': 'umetsu', 'id': '0'}}]\n",
      "[{'measurement': 'sensordata', 'fields': {'temperature': 24, 'tvoc': 94, 'co2': 37, 'humidity': 23, 'wetness': 71}, 'tags': {'user': 'umetsu', 'id': '0'}}]\n",
      "[{'measurement': 'sensordata', 'fields': {'temperature': 56, 'tvoc': 16, 'co2': 98, 'humidity': 95, 'wetness': 7}, 'tags': {'user': 'umetsu', 'id': '0'}}]\n",
      "[{'measurement': 'sensordata', 'fields': {'temperature': 54, 'tvoc': 93, 'co2': 38, 'humidity': 14, 'wetness': 79}, 'tags': {'user': 'umetsu', 'id': '0'}}]\n",
      "[{'measurement': 'sensordata', 'fields': {'temperature': 87, 'tvoc': 29, 'co2': 9, 'humidity': 95, 'wetness': 34}, 'tags': {'user': 'umetsu', 'id': '0'}}]\n",
      "[{'measurement': 'sensordata', 'fields': {'temperature': 13, 'tvoc': 41, 'co2': 62, 'humidity': 13, 'wetness': 89}, 'tags': {'user': 'umetsu', 'id': '0'}}]\n",
      "[{'measurement': 'sensordata', 'fields': {'temperature': 42, 'tvoc': 58, 'co2': 89, 'humidity': 57, 'wetness': 46}, 'tags': {'user': 'umetsu', 'id': '0'}}]\n",
      "[{'measurement': 'sensordata', 'fields': {'temperature': 96, 'tvoc': 51, 'co2': 80, 'humidity': 14, 'wetness': 99}, 'tags': {'user': 'umetsu', 'id': '0'}}]\n",
      "[{'measurement': 'sensordata', 'fields': {'temperature': 57, 'tvoc': 48, 'co2': 96, 'humidity': 63, 'wetness': 34}, 'tags': {'user': 'umetsu', 'id': '0'}}]\n",
      "[{'measurement': 'sensordata', 'fields': {'temperature': 31, 'tvoc': 31, 'co2': 58, 'humidity': 14, 'wetness': 69}, 'tags': {'user': 'umetsu', 'id': '0'}}]\n",
      "[{'measurement': 'sensordata', 'fields': {'temperature': 56, 'tvoc': 64, 'co2': 45, 'humidity': 15, 'wetness': 94}, 'tags': {'user': 'umetsu', 'id': '0'}}]\n",
      "[{'measurement': 'sensordata', 'fields': {'temperature': 66, 'tvoc': 57, 'co2': 16, 'humidity': 44, 'wetness': 98}, 'tags': {'user': 'umetsu', 'id': '0'}}]\n",
      "[{'measurement': 'sensordata', 'fields': {'temperature': 2, 'tvoc': 21, 'co2': 47, 'humidity': 20, 'wetness': 37}, 'tags': {'user': 'umetsu', 'id': '0'}}]\n",
      "[{'measurement': 'sensordata', 'fields': {'temperature': 73, 'tvoc': 58, 'co2': 22, 'humidity': 18, 'wetness': 19}, 'tags': {'user': 'umetsu', 'id': '0'}}]\n",
      "[{'measurement': 'sensordata', 'fields': {'temperature': 21, 'tvoc': 53, 'co2': 37, 'humidity': 7, 'wetness': 60}, 'tags': {'user': 'umetsu', 'id': '0'}}]\n",
      "[{'measurement': 'sensordata', 'fields': {'temperature': 89, 'tvoc': 18, 'co2': 16, 'humidity': 65, 'wetness': 16}, 'tags': {'user': 'umetsu', 'id': '0'}}]\n"
     ]
    }
   ],
   "source": [
    "from influxdb import InfluxDBClient\n",
    "import random\n",
    "from time import sleep\n",
    "\n",
    "\n",
    "i = 0\n",
    "for i in range(0,3600):\n",
    "\n",
    "    # クライアントのインスタンス作成\n",
    "    user = 'root'\n",
    "    password = 'root'\n",
    "    dbname = 'superdry'\n",
    "    host='influxdb'\n",
    "    port=8086\n",
    "\n",
    "    client = InfluxDBClient(host, port, user, password, dbname)\n",
    "\n",
    "    # データベース（なければ）作成\n",
    "    client.create_database(dbname)\n",
    "\n",
    "    # 送信内容\n",
    "    # json_body = [\n",
    "    #         {\n",
    "    #             \"measurement\": \"sensordata\",\n",
    "    #                 \"tags\": {\n",
    "    #                     \"user\": \"umetsu\",\n",
    "    #                     \"id\": \"0\"},\n",
    "    #             \"fields\": {\n",
    "    #                 \"temperature\": 1.0,\n",
    "    #                 \"humidity\":2.0,\n",
    "    #                 \"co2\":3.0,\n",
    "    #                 \"wetness\":\"4.0\",\n",
    "    #                 \"tvoc\":5.0\n",
    "    #             }\n",
    "    #         }\n",
    "    #     ]\n",
    "\n",
    "    json_body = [\n",
    "            {\n",
    "                \"measurement\": \"sensordata\",\n",
    "                    \"tags\": {\n",
    "                        \"user\": \"umetsu\",\n",
    "                        \"id\": \"0\"},\n",
    "                \"fields\": {\n",
    "                    \"temperature\": int(random.uniform(0,100)),\n",
    "                    \"humidity\":int(random.uniform(0,100)),\n",
    "                    \"co2\":int(random.uniform(0,100)),\n",
    "                    \"wetness\":int(random.uniform(0,100)),\n",
    "                    \"tvoc\":int(random.uniform(0,100))\n",
    "                }\n",
    "            }\n",
    "        ]\n",
    "\n",
    "    # 内容確認\n",
    "    print(json_body)\n",
    "\n",
    "    # 送信\n",
    "    client.write_points(json_body)\n",
    "    \n",
    "    i = i+1\n",
    "    \n",
    "    sleep(5)"
   ]
  },
  {
   "cell_type": "code",
   "execution_count": null,
   "metadata": {},
   "outputs": [],
   "source": []
  },
  {
   "cell_type": "code",
   "execution_count": null,
   "metadata": {},
   "outputs": [],
   "source": []
  },
  {
   "cell_type": "code",
   "execution_count": null,
   "metadata": {},
   "outputs": [],
   "source": []
  }
 ],
 "metadata": {
  "hide_input": false,
  "kernelspec": {
   "display_name": "Python 3",
   "language": "python",
   "name": "python3"
  },
  "language_info": {
   "codemirror_mode": {
    "name": "ipython",
    "version": 3
   },
   "file_extension": ".py",
   "mimetype": "text/x-python",
   "name": "python",
   "nbconvert_exporter": "python",
   "pygments_lexer": "ipython3",
   "version": "3.5.2"
  },
  "toc": {
   "base_numbering": 1,
   "nav_menu": {},
   "number_sections": true,
   "sideBar": true,
   "skip_h1_title": false,
   "title_cell": "Table of Contents",
   "title_sidebar": "Contents",
   "toc_cell": false,
   "toc_position": {},
   "toc_section_display": true,
   "toc_window_display": false
  },
  "varInspector": {
   "cols": {
    "lenName": 16,
    "lenType": 16,
    "lenVar": 40
   },
   "kernels_config": {
    "python": {
     "delete_cmd_postfix": "",
     "delete_cmd_prefix": "del ",
     "library": "var_list.py",
     "varRefreshCmd": "print(var_dic_list())"
    },
    "r": {
     "delete_cmd_postfix": ") ",
     "delete_cmd_prefix": "rm(",
     "library": "var_list.r",
     "varRefreshCmd": "cat(var_dic_list()) "
    }
   },
   "types_to_exclude": [
    "module",
    "function",
    "builtin_function_or_method",
    "instance",
    "_Feature"
   ],
   "window_display": false
  }
 },
 "nbformat": 4,
 "nbformat_minor": 2
}
