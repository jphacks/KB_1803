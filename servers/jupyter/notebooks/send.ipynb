{
 "cells": [
  {
   "cell_type": "code",
   "execution_count": 1,
   "metadata": {},
   "outputs": [
    {
     "name": "stdout",
     "output_type": "stream",
     "text": [
      "[{'tags': {'id': '0', 'user': 'umetsu'}, 'measurement': 'sensordata', 'fields': {'wetness': 20, 'co2': 72, 'tvoc': 59, 'humidity': 79, 'temperature': 53}}]\n",
      "[{'tags': {'id': '0', 'user': 'umetsu'}, 'measurement': 'sensordata', 'fields': {'wetness': 15, 'co2': 50, 'tvoc': 66, 'humidity': 74, 'temperature': 89}}]\n",
      "[{'tags': {'id': '0', 'user': 'umetsu'}, 'measurement': 'sensordata', 'fields': {'wetness': 99, 'co2': 32, 'tvoc': 85, 'humidity': 79, 'temperature': 69}}]\n",
      "[{'tags': {'id': '0', 'user': 'umetsu'}, 'measurement': 'sensordata', 'fields': {'wetness': 11, 'co2': 16, 'tvoc': 4, 'humidity': 58, 'temperature': 29}}]\n",
      "[{'tags': {'id': '0', 'user': 'umetsu'}, 'measurement': 'sensordata', 'fields': {'wetness': 61, 'co2': 34, 'tvoc': 9, 'humidity': 52, 'temperature': 61}}]\n",
      "[{'tags': {'id': '0', 'user': 'umetsu'}, 'measurement': 'sensordata', 'fields': {'wetness': 25, 'co2': 32, 'tvoc': 68, 'humidity': 31, 'temperature': 35}}]\n",
      "[{'tags': {'id': '0', 'user': 'umetsu'}, 'measurement': 'sensordata', 'fields': {'wetness': 56, 'co2': 98, 'tvoc': 82, 'humidity': 81, 'temperature': 50}}]\n",
      "[{'tags': {'id': '0', 'user': 'umetsu'}, 'measurement': 'sensordata', 'fields': {'wetness': 37, 'co2': 79, 'tvoc': 51, 'humidity': 59, 'temperature': 67}}]\n",
      "[{'tags': {'id': '0', 'user': 'umetsu'}, 'measurement': 'sensordata', 'fields': {'wetness': 84, 'co2': 9, 'tvoc': 98, 'humidity': 73, 'temperature': 44}}]\n",
      "[{'tags': {'id': '0', 'user': 'umetsu'}, 'measurement': 'sensordata', 'fields': {'wetness': 19, 'co2': 39, 'tvoc': 33, 'humidity': 18, 'temperature': 31}}]\n",
      "[{'tags': {'id': '0', 'user': 'umetsu'}, 'measurement': 'sensordata', 'fields': {'wetness': 22, 'co2': 40, 'tvoc': 59, 'humidity': 66, 'temperature': 82}}]\n",
      "[{'tags': {'id': '0', 'user': 'umetsu'}, 'measurement': 'sensordata', 'fields': {'wetness': 19, 'co2': 40, 'tvoc': 15, 'humidity': 31, 'temperature': 4}}]\n",
      "[{'tags': {'id': '0', 'user': 'umetsu'}, 'measurement': 'sensordata', 'fields': {'wetness': 94, 'co2': 53, 'tvoc': 54, 'humidity': 41, 'temperature': 38}}]\n",
      "[{'tags': {'id': '0', 'user': 'umetsu'}, 'measurement': 'sensordata', 'fields': {'wetness': 5, 'co2': 19, 'tvoc': 18, 'humidity': 89, 'temperature': 6}}]\n",
      "[{'tags': {'id': '0', 'user': 'umetsu'}, 'measurement': 'sensordata', 'fields': {'wetness': 78, 'co2': 84, 'tvoc': 84, 'humidity': 38, 'temperature': 9}}]\n",
      "[{'tags': {'id': '0', 'user': 'umetsu'}, 'measurement': 'sensordata', 'fields': {'wetness': 97, 'co2': 78, 'tvoc': 84, 'humidity': 61, 'temperature': 32}}]\n",
      "[{'tags': {'id': '0', 'user': 'umetsu'}, 'measurement': 'sensordata', 'fields': {'wetness': 42, 'co2': 95, 'tvoc': 39, 'humidity': 68, 'temperature': 88}}]\n",
      "[{'tags': {'id': '0', 'user': 'umetsu'}, 'measurement': 'sensordata', 'fields': {'wetness': 40, 'co2': 85, 'tvoc': 17, 'humidity': 44, 'temperature': 36}}]\n",
      "[{'tags': {'id': '0', 'user': 'umetsu'}, 'measurement': 'sensordata', 'fields': {'wetness': 57, 'co2': 48, 'tvoc': 44, 'humidity': 96, 'temperature': 86}}]\n",
      "[{'tags': {'id': '0', 'user': 'umetsu'}, 'measurement': 'sensordata', 'fields': {'wetness': 41, 'co2': 90, 'tvoc': 89, 'humidity': 97, 'temperature': 99}}]\n",
      "[{'tags': {'id': '0', 'user': 'umetsu'}, 'measurement': 'sensordata', 'fields': {'wetness': 10, 'co2': 29, 'tvoc': 26, 'humidity': 4, 'temperature': 5}}]\n",
      "[{'tags': {'id': '0', 'user': 'umetsu'}, 'measurement': 'sensordata', 'fields': {'wetness': 17, 'co2': 69, 'tvoc': 24, 'humidity': 62, 'temperature': 14}}]\n",
      "[{'tags': {'id': '0', 'user': 'umetsu'}, 'measurement': 'sensordata', 'fields': {'wetness': 21, 'co2': 78, 'tvoc': 41, 'humidity': 3, 'temperature': 91}}]\n",
      "[{'tags': {'id': '0', 'user': 'umetsu'}, 'measurement': 'sensordata', 'fields': {'wetness': 27, 'co2': 78, 'tvoc': 21, 'humidity': 76, 'temperature': 26}}]\n",
      "[{'tags': {'id': '0', 'user': 'umetsu'}, 'measurement': 'sensordata', 'fields': {'wetness': 19, 'co2': 36, 'tvoc': 44, 'humidity': 43, 'temperature': 87}}]\n",
      "[{'tags': {'id': '0', 'user': 'umetsu'}, 'measurement': 'sensordata', 'fields': {'wetness': 43, 'co2': 85, 'tvoc': 46, 'humidity': 3, 'temperature': 70}}]\n",
      "[{'tags': {'id': '0', 'user': 'umetsu'}, 'measurement': 'sensordata', 'fields': {'wetness': 93, 'co2': 55, 'tvoc': 79, 'humidity': 65, 'temperature': 91}}]\n",
      "[{'tags': {'id': '0', 'user': 'umetsu'}, 'measurement': 'sensordata', 'fields': {'wetness': 87, 'co2': 47, 'tvoc': 3, 'humidity': 89, 'temperature': 27}}]\n",
      "[{'tags': {'id': '0', 'user': 'umetsu'}, 'measurement': 'sensordata', 'fields': {'wetness': 86, 'co2': 10, 'tvoc': 45, 'humidity': 85, 'temperature': 72}}]\n",
      "[{'tags': {'id': '0', 'user': 'umetsu'}, 'measurement': 'sensordata', 'fields': {'wetness': 4, 'co2': 80, 'tvoc': 84, 'humidity': 10, 'temperature': 44}}]\n",
      "[{'tags': {'id': '0', 'user': 'umetsu'}, 'measurement': 'sensordata', 'fields': {'wetness': 44, 'co2': 18, 'tvoc': 91, 'humidity': 52, 'temperature': 38}}]\n",
      "[{'tags': {'id': '0', 'user': 'umetsu'}, 'measurement': 'sensordata', 'fields': {'wetness': 4, 'co2': 93, 'tvoc': 80, 'humidity': 80, 'temperature': 77}}]\n",
      "[{'tags': {'id': '0', 'user': 'umetsu'}, 'measurement': 'sensordata', 'fields': {'wetness': 0, 'co2': 25, 'tvoc': 92, 'humidity': 22, 'temperature': 66}}]\n",
      "[{'tags': {'id': '0', 'user': 'umetsu'}, 'measurement': 'sensordata', 'fields': {'wetness': 88, 'co2': 21, 'tvoc': 35, 'humidity': 58, 'temperature': 65}}]\n",
      "[{'tags': {'id': '0', 'user': 'umetsu'}, 'measurement': 'sensordata', 'fields': {'wetness': 38, 'co2': 42, 'tvoc': 28, 'humidity': 62, 'temperature': 7}}]\n",
      "[{'tags': {'id': '0', 'user': 'umetsu'}, 'measurement': 'sensordata', 'fields': {'wetness': 77, 'co2': 39, 'tvoc': 35, 'humidity': 40, 'temperature': 36}}]\n",
      "[{'tags': {'id': '0', 'user': 'umetsu'}, 'measurement': 'sensordata', 'fields': {'wetness': 41, 'co2': 50, 'tvoc': 0, 'humidity': 28, 'temperature': 2}}]\n",
      "[{'tags': {'id': '0', 'user': 'umetsu'}, 'measurement': 'sensordata', 'fields': {'wetness': 10, 'co2': 28, 'tvoc': 71, 'humidity': 72, 'temperature': 57}}]\n",
      "[{'tags': {'id': '0', 'user': 'umetsu'}, 'measurement': 'sensordata', 'fields': {'wetness': 96, 'co2': 44, 'tvoc': 35, 'humidity': 37, 'temperature': 12}}]\n",
      "[{'tags': {'id': '0', 'user': 'umetsu'}, 'measurement': 'sensordata', 'fields': {'wetness': 72, 'co2': 18, 'tvoc': 62, 'humidity': 56, 'temperature': 87}}]\n",
      "[{'tags': {'id': '0', 'user': 'umetsu'}, 'measurement': 'sensordata', 'fields': {'wetness': 10, 'co2': 71, 'tvoc': 2, 'humidity': 5, 'temperature': 58}}]\n",
      "[{'tags': {'id': '0', 'user': 'umetsu'}, 'measurement': 'sensordata', 'fields': {'wetness': 52, 'co2': 7, 'tvoc': 85, 'humidity': 88, 'temperature': 38}}]\n",
      "[{'tags': {'id': '0', 'user': 'umetsu'}, 'measurement': 'sensordata', 'fields': {'wetness': 91, 'co2': 97, 'tvoc': 66, 'humidity': 39, 'temperature': 11}}]\n",
      "[{'tags': {'id': '0', 'user': 'umetsu'}, 'measurement': 'sensordata', 'fields': {'wetness': 50, 'co2': 24, 'tvoc': 55, 'humidity': 20, 'temperature': 73}}]\n",
      "[{'tags': {'id': '0', 'user': 'umetsu'}, 'measurement': 'sensordata', 'fields': {'wetness': 51, 'co2': 25, 'tvoc': 74, 'humidity': 10, 'temperature': 66}}]\n",
      "[{'tags': {'id': '0', 'user': 'umetsu'}, 'measurement': 'sensordata', 'fields': {'wetness': 15, 'co2': 93, 'tvoc': 99, 'humidity': 44, 'temperature': 78}}]\n",
      "[{'tags': {'id': '0', 'user': 'umetsu'}, 'measurement': 'sensordata', 'fields': {'wetness': 61, 'co2': 70, 'tvoc': 42, 'humidity': 26, 'temperature': 45}}]\n",
      "[{'tags': {'id': '0', 'user': 'umetsu'}, 'measurement': 'sensordata', 'fields': {'wetness': 88, 'co2': 16, 'tvoc': 97, 'humidity': 74, 'temperature': 89}}]\n",
      "[{'tags': {'id': '0', 'user': 'umetsu'}, 'measurement': 'sensordata', 'fields': {'wetness': 21, 'co2': 24, 'tvoc': 13, 'humidity': 44, 'temperature': 93}}]\n",
      "[{'tags': {'id': '0', 'user': 'umetsu'}, 'measurement': 'sensordata', 'fields': {'wetness': 55, 'co2': 39, 'tvoc': 88, 'humidity': 37, 'temperature': 45}}]\n",
      "[{'tags': {'id': '0', 'user': 'umetsu'}, 'measurement': 'sensordata', 'fields': {'wetness': 28, 'co2': 45, 'tvoc': 45, 'humidity': 27, 'temperature': 42}}]\n",
      "[{'tags': {'id': '0', 'user': 'umetsu'}, 'measurement': 'sensordata', 'fields': {'wetness': 44, 'co2': 10, 'tvoc': 93, 'humidity': 55, 'temperature': 26}}]\n",
      "[{'tags': {'id': '0', 'user': 'umetsu'}, 'measurement': 'sensordata', 'fields': {'wetness': 35, 'co2': 16, 'tvoc': 66, 'humidity': 24, 'temperature': 43}}]\n"
     ]
    },
    {
     "name": "stdout",
     "output_type": "stream",
     "text": [
      "[{'tags': {'id': '0', 'user': 'umetsu'}, 'measurement': 'sensordata', 'fields': {'wetness': 51, 'co2': 52, 'tvoc': 19, 'humidity': 5, 'temperature': 16}}]\n",
      "[{'tags': {'id': '0', 'user': 'umetsu'}, 'measurement': 'sensordata', 'fields': {'wetness': 20, 'co2': 30, 'tvoc': 85, 'humidity': 58, 'temperature': 11}}]\n",
      "[{'tags': {'id': '0', 'user': 'umetsu'}, 'measurement': 'sensordata', 'fields': {'wetness': 55, 'co2': 37, 'tvoc': 73, 'humidity': 13, 'temperature': 31}}]\n",
      "[{'tags': {'id': '0', 'user': 'umetsu'}, 'measurement': 'sensordata', 'fields': {'wetness': 2, 'co2': 52, 'tvoc': 68, 'humidity': 95, 'temperature': 56}}]\n",
      "[{'tags': {'id': '0', 'user': 'umetsu'}, 'measurement': 'sensordata', 'fields': {'wetness': 31, 'co2': 42, 'tvoc': 6, 'humidity': 42, 'temperature': 6}}]\n",
      "[{'tags': {'id': '0', 'user': 'umetsu'}, 'measurement': 'sensordata', 'fields': {'wetness': 42, 'co2': 45, 'tvoc': 54, 'humidity': 62, 'temperature': 0}}]\n",
      "[{'tags': {'id': '0', 'user': 'umetsu'}, 'measurement': 'sensordata', 'fields': {'wetness': 28, 'co2': 60, 'tvoc': 83, 'humidity': 29, 'temperature': 60}}]\n",
      "[{'tags': {'id': '0', 'user': 'umetsu'}, 'measurement': 'sensordata', 'fields': {'wetness': 44, 'co2': 78, 'tvoc': 75, 'humidity': 45, 'temperature': 19}}]\n",
      "[{'tags': {'id': '0', 'user': 'umetsu'}, 'measurement': 'sensordata', 'fields': {'wetness': 30, 'co2': 45, 'tvoc': 13, 'humidity': 83, 'temperature': 22}}]\n",
      "[{'tags': {'id': '0', 'user': 'umetsu'}, 'measurement': 'sensordata', 'fields': {'wetness': 43, 'co2': 73, 'tvoc': 13, 'humidity': 65, 'temperature': 41}}]\n",
      "[{'tags': {'id': '0', 'user': 'umetsu'}, 'measurement': 'sensordata', 'fields': {'wetness': 46, 'co2': 8, 'tvoc': 21, 'humidity': 0, 'temperature': 37}}]\n",
      "[{'tags': {'id': '0', 'user': 'umetsu'}, 'measurement': 'sensordata', 'fields': {'wetness': 94, 'co2': 54, 'tvoc': 35, 'humidity': 30, 'temperature': 12}}]\n",
      "[{'tags': {'id': '0', 'user': 'umetsu'}, 'measurement': 'sensordata', 'fields': {'wetness': 45, 'co2': 89, 'tvoc': 98, 'humidity': 71, 'temperature': 4}}]\n",
      "[{'tags': {'id': '0', 'user': 'umetsu'}, 'measurement': 'sensordata', 'fields': {'wetness': 41, 'co2': 59, 'tvoc': 30, 'humidity': 89, 'temperature': 80}}]\n",
      "[{'tags': {'id': '0', 'user': 'umetsu'}, 'measurement': 'sensordata', 'fields': {'wetness': 26, 'co2': 91, 'tvoc': 6, 'humidity': 4, 'temperature': 48}}]\n",
      "[{'tags': {'id': '0', 'user': 'umetsu'}, 'measurement': 'sensordata', 'fields': {'wetness': 7, 'co2': 98, 'tvoc': 90, 'humidity': 34, 'temperature': 63}}]\n",
      "[{'tags': {'id': '0', 'user': 'umetsu'}, 'measurement': 'sensordata', 'fields': {'wetness': 73, 'co2': 59, 'tvoc': 63, 'humidity': 5, 'temperature': 82}}]\n",
      "[{'tags': {'id': '0', 'user': 'umetsu'}, 'measurement': 'sensordata', 'fields': {'wetness': 49, 'co2': 89, 'tvoc': 60, 'humidity': 82, 'temperature': 63}}]\n",
      "[{'tags': {'id': '0', 'user': 'umetsu'}, 'measurement': 'sensordata', 'fields': {'wetness': 57, 'co2': 59, 'tvoc': 89, 'humidity': 57, 'temperature': 12}}]\n",
      "[{'tags': {'id': '0', 'user': 'umetsu'}, 'measurement': 'sensordata', 'fields': {'wetness': 70, 'co2': 44, 'tvoc': 44, 'humidity': 82, 'temperature': 25}}]\n",
      "[{'tags': {'id': '0', 'user': 'umetsu'}, 'measurement': 'sensordata', 'fields': {'wetness': 84, 'co2': 0, 'tvoc': 46, 'humidity': 94, 'temperature': 55}}]\n",
      "[{'tags': {'id': '0', 'user': 'umetsu'}, 'measurement': 'sensordata', 'fields': {'wetness': 94, 'co2': 18, 'tvoc': 89, 'humidity': 42, 'temperature': 77}}]\n",
      "[{'tags': {'id': '0', 'user': 'umetsu'}, 'measurement': 'sensordata', 'fields': {'wetness': 79, 'co2': 32, 'tvoc': 57, 'humidity': 8, 'temperature': 13}}]\n",
      "[{'tags': {'id': '0', 'user': 'umetsu'}, 'measurement': 'sensordata', 'fields': {'wetness': 79, 'co2': 31, 'tvoc': 34, 'humidity': 75, 'temperature': 60}}]\n",
      "[{'tags': {'id': '0', 'user': 'umetsu'}, 'measurement': 'sensordata', 'fields': {'wetness': 94, 'co2': 6, 'tvoc': 81, 'humidity': 23, 'temperature': 31}}]\n",
      "[{'tags': {'id': '0', 'user': 'umetsu'}, 'measurement': 'sensordata', 'fields': {'wetness': 38, 'co2': 79, 'tvoc': 8, 'humidity': 90, 'temperature': 61}}]\n",
      "[{'tags': {'id': '0', 'user': 'umetsu'}, 'measurement': 'sensordata', 'fields': {'wetness': 92, 'co2': 93, 'tvoc': 27, 'humidity': 99, 'temperature': 31}}]\n",
      "[{'tags': {'id': '0', 'user': 'umetsu'}, 'measurement': 'sensordata', 'fields': {'wetness': 62, 'co2': 24, 'tvoc': 69, 'humidity': 3, 'temperature': 68}}]\n",
      "[{'tags': {'id': '0', 'user': 'umetsu'}, 'measurement': 'sensordata', 'fields': {'wetness': 30, 'co2': 55, 'tvoc': 4, 'humidity': 3, 'temperature': 40}}]\n",
      "[{'tags': {'id': '0', 'user': 'umetsu'}, 'measurement': 'sensordata', 'fields': {'wetness': 46, 'co2': 18, 'tvoc': 27, 'humidity': 42, 'temperature': 8}}]\n",
      "[{'tags': {'id': '0', 'user': 'umetsu'}, 'measurement': 'sensordata', 'fields': {'wetness': 92, 'co2': 49, 'tvoc': 89, 'humidity': 44, 'temperature': 23}}]\n",
      "[{'tags': {'id': '0', 'user': 'umetsu'}, 'measurement': 'sensordata', 'fields': {'wetness': 24, 'co2': 11, 'tvoc': 56, 'humidity': 1, 'temperature': 68}}]\n",
      "[{'tags': {'id': '0', 'user': 'umetsu'}, 'measurement': 'sensordata', 'fields': {'wetness': 54, 'co2': 20, 'tvoc': 58, 'humidity': 42, 'temperature': 53}}]\n",
      "[{'tags': {'id': '0', 'user': 'umetsu'}, 'measurement': 'sensordata', 'fields': {'wetness': 74, 'co2': 18, 'tvoc': 31, 'humidity': 13, 'temperature': 70}}]\n",
      "[{'tags': {'id': '0', 'user': 'umetsu'}, 'measurement': 'sensordata', 'fields': {'wetness': 71, 'co2': 94, 'tvoc': 55, 'humidity': 27, 'temperature': 11}}]\n",
      "[{'tags': {'id': '0', 'user': 'umetsu'}, 'measurement': 'sensordata', 'fields': {'wetness': 6, 'co2': 27, 'tvoc': 27, 'humidity': 19, 'temperature': 29}}]\n",
      "[{'tags': {'id': '0', 'user': 'umetsu'}, 'measurement': 'sensordata', 'fields': {'wetness': 43, 'co2': 55, 'tvoc': 61, 'humidity': 91, 'temperature': 76}}]\n",
      "[{'tags': {'id': '0', 'user': 'umetsu'}, 'measurement': 'sensordata', 'fields': {'wetness': 7, 'co2': 9, 'tvoc': 19, 'humidity': 0, 'temperature': 48}}]\n",
      "[{'tags': {'id': '0', 'user': 'umetsu'}, 'measurement': 'sensordata', 'fields': {'wetness': 21, 'co2': 20, 'tvoc': 70, 'humidity': 70, 'temperature': 87}}]\n",
      "[{'tags': {'id': '0', 'user': 'umetsu'}, 'measurement': 'sensordata', 'fields': {'wetness': 67, 'co2': 19, 'tvoc': 2, 'humidity': 25, 'temperature': 2}}]\n",
      "[{'tags': {'id': '0', 'user': 'umetsu'}, 'measurement': 'sensordata', 'fields': {'wetness': 4, 'co2': 61, 'tvoc': 13, 'humidity': 73, 'temperature': 89}}]\n",
      "[{'tags': {'id': '0', 'user': 'umetsu'}, 'measurement': 'sensordata', 'fields': {'wetness': 46, 'co2': 66, 'tvoc': 55, 'humidity': 54, 'temperature': 89}}]\n",
      "[{'tags': {'id': '0', 'user': 'umetsu'}, 'measurement': 'sensordata', 'fields': {'wetness': 34, 'co2': 84, 'tvoc': 4, 'humidity': 84, 'temperature': 60}}]\n",
      "[{'tags': {'id': '0', 'user': 'umetsu'}, 'measurement': 'sensordata', 'fields': {'wetness': 99, 'co2': 45, 'tvoc': 64, 'humidity': 33, 'temperature': 52}}]\n",
      "[{'tags': {'id': '0', 'user': 'umetsu'}, 'measurement': 'sensordata', 'fields': {'wetness': 58, 'co2': 86, 'tvoc': 71, 'humidity': 76, 'temperature': 76}}]\n"
     ]
    },
    {
     "ename": "KeyboardInterrupt",
     "evalue": "",
     "output_type": "error",
     "traceback": [
      "\u001b[0;31m---------------------------------------------------------------------------\u001b[0m",
      "\u001b[0;31mKeyboardInterrupt\u001b[0m                         Traceback (most recent call last)",
      "\u001b[0;32m<ipython-input-1-ef8d9e3eb164>\u001b[0m in \u001b[0;36m<module>\u001b[0;34m()\u001b[0m\n\u001b[1;32m     60\u001b[0m     \u001b[0mi\u001b[0m \u001b[0;34m=\u001b[0m \u001b[0mi\u001b[0m\u001b[0;34m+\u001b[0m\u001b[0;36m1\u001b[0m\u001b[0;34m\u001b[0m\u001b[0m\n\u001b[1;32m     61\u001b[0m \u001b[0;34m\u001b[0m\u001b[0m\n\u001b[0;32m---> 62\u001b[0;31m     \u001b[0msleep\u001b[0m\u001b[0;34m(\u001b[0m\u001b[0;36m1\u001b[0m\u001b[0;34m)\u001b[0m\u001b[0;34m\u001b[0m\u001b[0m\n\u001b[0m",
      "\u001b[0;31mKeyboardInterrupt\u001b[0m: "
     ]
    }
   ],
   "source": [
    "from influxdb import InfluxDBClient\n",
    "import random\n",
    "from time import sleep\n",
    "\n",
    "\n",
    "i = 0\n",
    "for i in range(0,3600):\n",
    "\n",
    "    # クライアントのインスタンス作成\n",
    "    user = 'root'\n",
    "    password = 'root'\n",
    "    dbname = 'superdry'\n",
    "    host='influxdb'\n",
    "    port=8086\n",
    "\n",
    "    client = InfluxDBClient(host, port, user, password, dbname)\n",
    "\n",
    "    # データベース（なければ）作成\n",
    "    client.create_database(dbname)\n",
    "\n",
    "    # 送信内容\n",
    "    # json_body = [\n",
    "    #         {\n",
    "    #             \"measurement\": \"sensordata\",\n",
    "    #                 \"tags\": {\n",
    "    #                     \"user\": \"umetsu\",\n",
    "    #                     \"id\": \"0\"},\n",
    "    #             \"fields\": {\n",
    "    #                 \"temperature\": 1.0,\n",
    "    #                 \"humidity\":2.0,\n",
    "    #                 \"co2\":3.0,\n",
    "    #                 \"wetness\":\"4.0\",\n",
    "    #                 \"tvoc\":5.0\n",
    "    #             }\n",
    "    #         }\n",
    "    #     ]\n",
    "\n",
    "    json_body = [\n",
    "            {\n",
    "                \"measurement\": \"sensordata\",\n",
    "                    \"tags\": {\n",
    "                        \"user\": \"umetsu\",\n",
    "                        \"id\": \"0\"},\n",
    "                \"fields\": {\n",
    "                    \"temperature\": int(random.uniform(0,100)),\n",
    "                    \"humidity\":int(random.uniform(0,100)),\n",
    "                    \"co2\":int(random.uniform(0,100)),\n",
    "                    \"wetness\":int(random.uniform(0,100)),\n",
    "                    \"tvoc\":int(random.uniform(0,100))\n",
    "                }\n",
    "            }\n",
    "        ]\n",
    "\n",
    "    # 内容確認\n",
    "    print(json_body)\n",
    "\n",
    "    # 送信\n",
    "    client.write_points(json_body)\n",
    "    \n",
    "    i = i+1\n",
    "    \n",
    "    sleep(1)"
   ]
  },
  {
   "cell_type": "code",
   "execution_count": null,
   "metadata": {},
   "outputs": [],
   "source": []
  },
  {
   "cell_type": "code",
   "execution_count": null,
   "metadata": {},
   "outputs": [],
   "source": []
  },
  {
   "cell_type": "code",
   "execution_count": 1,
   "metadata": {},
   "outputs": [
    {
     "data": {
      "text/plain": [
       "float"
      ]
     },
     "execution_count": 1,
     "metadata": {},
     "output_type": "execute_result"
    }
   ],
   "source": [
    "type(0.0)"
   ]
  },
  {
   "cell_type": "code",
   "execution_count": 7,
   "metadata": {},
   "outputs": [
    {
     "name": "stdout",
     "output_type": "stream",
     "text": [
      "yes\n"
     ]
    }
   ],
   "source": [
    "if 2.30 < 4:\n",
    "    print(\"yes\")"
   ]
  },
  {
   "cell_type": "code",
   "execution_count": null,
   "metadata": {},
   "outputs": [],
   "source": []
  }
 ],
 "metadata": {
  "hide_input": false,
  "kernelspec": {
   "display_name": "Python 3",
   "language": "python",
   "name": "python3"
  },
  "language_info": {
   "codemirror_mode": {
    "name": "ipython",
    "version": 3
   },
   "file_extension": ".py",
   "mimetype": "text/x-python",
   "name": "python",
   "nbconvert_exporter": "python",
   "pygments_lexer": "ipython3",
   "version": "3.5.2"
  },
  "toc": {
   "base_numbering": 1,
   "nav_menu": {},
   "number_sections": true,
   "sideBar": true,
   "skip_h1_title": false,
   "title_cell": "Table of Contents",
   "title_sidebar": "Contents",
   "toc_cell": false,
   "toc_position": {},
   "toc_section_display": true,
   "toc_window_display": false
  },
  "varInspector": {
   "cols": {
    "lenName": 16,
    "lenType": 16,
    "lenVar": 40
   },
   "kernels_config": {
    "python": {
     "delete_cmd_postfix": "",
     "delete_cmd_prefix": "del ",
     "library": "var_list.py",
     "varRefreshCmd": "print(var_dic_list())"
    },
    "r": {
     "delete_cmd_postfix": ") ",
     "delete_cmd_prefix": "rm(",
     "library": "var_list.r",
     "varRefreshCmd": "cat(var_dic_list()) "
    }
   },
   "types_to_exclude": [
    "module",
    "function",
    "builtin_function_or_method",
    "instance",
    "_Feature"
   ],
   "window_display": false
  }
 },
 "nbformat": 4,
 "nbformat_minor": 2
}
