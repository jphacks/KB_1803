{
 "cells": [
  {
   "cell_type": "code",
   "execution_count": null,
   "metadata": {},
   "outputs": [
    {
     "name": "stdout",
     "output_type": "stream",
     "text": [
      "[{'tags': {'id': '0', 'user': 'umetsu'}, 'fields': {'wetness': 6, 'tvoc': 83, 'humidity': 40, 'co2': 5, 'temperature': 2}, 'measurement': 'sensordata'}]\n",
      "[{'tags': {'id': '0', 'user': 'umetsu'}, 'fields': {'wetness': 9, 'tvoc': 72, 'humidity': 91, 'co2': 6, 'temperature': 26}, 'measurement': 'sensordata'}]\n",
      "[{'tags': {'id': '0', 'user': 'umetsu'}, 'fields': {'wetness': 25, 'tvoc': 29, 'humidity': 74, 'co2': 69, 'temperature': 98}, 'measurement': 'sensordata'}]\n",
      "[{'tags': {'id': '0', 'user': 'umetsu'}, 'fields': {'wetness': 25, 'tvoc': 4, 'humidity': 71, 'co2': 18, 'temperature': 60}, 'measurement': 'sensordata'}]\n",
      "[{'tags': {'id': '0', 'user': 'umetsu'}, 'fields': {'wetness': 34, 'tvoc': 91, 'humidity': 72, 'co2': 77, 'temperature': 18}, 'measurement': 'sensordata'}]\n",
      "[{'tags': {'id': '0', 'user': 'umetsu'}, 'fields': {'wetness': 5, 'tvoc': 33, 'humidity': 20, 'co2': 59, 'temperature': 98}, 'measurement': 'sensordata'}]\n",
      "[{'tags': {'id': '0', 'user': 'umetsu'}, 'fields': {'wetness': 71, 'tvoc': 53, 'humidity': 82, 'co2': 76, 'temperature': 84}, 'measurement': 'sensordata'}]\n",
      "[{'tags': {'id': '0', 'user': 'umetsu'}, 'fields': {'wetness': 56, 'tvoc': 43, 'humidity': 39, 'co2': 5, 'temperature': 24}, 'measurement': 'sensordata'}]\n",
      "[{'tags': {'id': '0', 'user': 'umetsu'}, 'fields': {'wetness': 4, 'tvoc': 3, 'humidity': 50, 'co2': 96, 'temperature': 99}, 'measurement': 'sensordata'}]\n",
      "[{'tags': {'id': '0', 'user': 'umetsu'}, 'fields': {'wetness': 83, 'tvoc': 82, 'humidity': 66, 'co2': 37, 'temperature': 71}, 'measurement': 'sensordata'}]\n",
      "[{'tags': {'id': '0', 'user': 'umetsu'}, 'fields': {'wetness': 30, 'tvoc': 61, 'humidity': 82, 'co2': 20, 'temperature': 34}, 'measurement': 'sensordata'}]\n",
      "[{'tags': {'id': '0', 'user': 'umetsu'}, 'fields': {'wetness': 84, 'tvoc': 40, 'humidity': 50, 'co2': 86, 'temperature': 71}, 'measurement': 'sensordata'}]\n",
      "[{'tags': {'id': '0', 'user': 'umetsu'}, 'fields': {'wetness': 24, 'tvoc': 12, 'humidity': 63, 'co2': 32, 'temperature': 80}, 'measurement': 'sensordata'}]\n",
      "[{'tags': {'id': '0', 'user': 'umetsu'}, 'fields': {'wetness': 60, 'tvoc': 36, 'humidity': 26, 'co2': 99, 'temperature': 63}, 'measurement': 'sensordata'}]\n",
      "[{'tags': {'id': '0', 'user': 'umetsu'}, 'fields': {'wetness': 71, 'tvoc': 93, 'humidity': 62, 'co2': 14, 'temperature': 76}, 'measurement': 'sensordata'}]\n"
     ]
    }
   ],
   "source": [
    "from influxdb import InfluxDBClient\n",
    "import random\n",
    "from time import sleep\n",
    "\n",
    "\n",
    "i = 0\n",
    "for i in range(0,3600):\n",
    "\n",
    "    # クライアントのインスタンス作成\n",
    "    user = 'root'\n",
    "    password = 'root'\n",
    "    dbname = 'superdry'\n",
    "    host='influxdb'\n",
    "    port=8086\n",
    "\n",
    "    client = InfluxDBClient(host, port, user, password, dbname)\n",
    "\n",
    "    # データベース（なければ）作成\n",
    "    client.create_database(dbname)\n",
    "\n",
    "    # 送信内容\n",
    "    # json_body = [\n",
    "    #         {\n",
    "    #             \"measurement\": \"sensordata\",\n",
    "    #                 \"tags\": {\n",
    "    #                     \"user\": \"umetsu\",\n",
    "    #                     \"id\": \"0\"},\n",
    "    #             \"fields\": {\n",
    "    #                 \"temperature\": 1.0,\n",
    "    #                 \"humidity\":2.0,\n",
    "    #                 \"co2\":3.0,\n",
    "    #                 \"wetness\":\"4.0\",\n",
    "    #                 \"tvoc\":5.0\n",
    "    #             }\n",
    "    #         }\n",
    "    #     ]\n",
    "\n",
    "    json_body = [\n",
    "            {\n",
    "                \"measurement\": \"sensordata\",\n",
    "                    \"tags\": {\n",
    "                        \"user\": \"umetsu\",\n",
    "                        \"id\": \"0\"},\n",
    "                \"fields\": {\n",
    "                    \"temperature\": int(random.uniform(0,100)),\n",
    "                    \"humidity\":int(random.uniform(0,100)),\n",
    "                    \"co2\":int(random.uniform(0,100)),\n",
    "                    \"wetness\":int(random.uniform(0,100)),\n",
    "                    \"tvoc\":int(random.uniform(0,100))\n",
    "                }\n",
    "            }\n",
    "        ]\n",
    "\n",
    "    # 内容確認\n",
    "    print(json_body)\n",
    "\n",
    "    # 送信\n",
    "    client.write_points(json_body)\n",
    "    \n",
    "    i = i+1\n",
    "    \n",
    "    sleep(1)"
   ]
  },
  {
   "cell_type": "code",
   "execution_count": null,
   "metadata": {},
   "outputs": [],
   "source": []
  },
  {
   "cell_type": "code",
   "execution_count": null,
   "metadata": {},
   "outputs": [],
   "source": []
  },
  {
   "cell_type": "code",
   "execution_count": null,
   "metadata": {},
   "outputs": [],
   "source": []
  }
 ],
 "metadata": {
  "hide_input": false,
  "kernelspec": {
   "display_name": "Python 3",
   "language": "python",
   "name": "python3"
  },
  "language_info": {
   "codemirror_mode": {
    "name": "ipython",
    "version": 3
   },
   "file_extension": ".py",
   "mimetype": "text/x-python",
   "name": "python",
   "nbconvert_exporter": "python",
   "pygments_lexer": "ipython3",
   "version": "3.5.2"
  },
  "toc": {
   "base_numbering": 1,
   "nav_menu": {},
   "number_sections": true,
   "sideBar": true,
   "skip_h1_title": false,
   "title_cell": "Table of Contents",
   "title_sidebar": "Contents",
   "toc_cell": false,
   "toc_position": {},
   "toc_section_display": true,
   "toc_window_display": false
  },
  "varInspector": {
   "cols": {
    "lenName": 16,
    "lenType": 16,
    "lenVar": 40
   },
   "kernels_config": {
    "python": {
     "delete_cmd_postfix": "",
     "delete_cmd_prefix": "del ",
     "library": "var_list.py",
     "varRefreshCmd": "print(var_dic_list())"
    },
    "r": {
     "delete_cmd_postfix": ") ",
     "delete_cmd_prefix": "rm(",
     "library": "var_list.r",
     "varRefreshCmd": "cat(var_dic_list()) "
    }
   },
   "types_to_exclude": [
    "module",
    "function",
    "builtin_function_or_method",
    "instance",
    "_Feature"
   ],
   "window_display": false
  }
 },
 "nbformat": 4,
 "nbformat_minor": 2
}
