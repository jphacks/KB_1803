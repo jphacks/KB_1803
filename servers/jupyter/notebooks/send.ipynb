{
 "cells": [
  {
   "cell_type": "code",
   "execution_count": null,
   "metadata": {},
   "outputs": [
    {
     "name": "stdout",
     "output_type": "stream",
     "text": [
      "[{'measurement': 'sensordata', 'fields': {'co2': 71.64506288598541, 'humidity': 79.4081435633399, 'tvoc': 72.59714536002036, 'wetness': 42.37193776709827, 'temperature': 9.40666210969453}, 'tags': {'id': '0', 'user': 'umetsu'}}]\n",
      "[{'measurement': 'sensordata', 'fields': {'co2': 51.077482397308984, 'humidity': 34.29020012198387, 'tvoc': 90.47010619630748, 'wetness': 51.15539542749667, 'temperature': 22.329351746866}, 'tags': {'id': '0', 'user': 'umetsu'}}]\n",
      "[{'measurement': 'sensordata', 'fields': {'co2': 2.753552410728133, 'humidity': 86.16280513398277, 'tvoc': 28.14860365047923, 'wetness': 62.629947583099266, 'temperature': 44.64401834889375}, 'tags': {'id': '0', 'user': 'umetsu'}}]\n",
      "[{'measurement': 'sensordata', 'fields': {'co2': 5.890743004262456, 'humidity': 49.358017903586585, 'tvoc': 38.50875867747601, 'wetness': 39.49816616442162, 'temperature': 33.7161554837775}, 'tags': {'id': '0', 'user': 'umetsu'}}]\n",
      "[{'measurement': 'sensordata', 'fields': {'co2': 9.021028885514859, 'humidity': 56.369869814542675, 'tvoc': 57.56568497547704, 'wetness': 92.33800145065452, 'temperature': 82.20283232254518}, 'tags': {'id': '0', 'user': 'umetsu'}}]\n",
      "[{'measurement': 'sensordata', 'fields': {'co2': 92.01500669544606, 'humidity': 86.49776778295968, 'tvoc': 88.43070183369188, 'wetness': 11.51910803278935, 'temperature': 42.4098987385587}, 'tags': {'id': '0', 'user': 'umetsu'}}]\n",
      "[{'measurement': 'sensordata', 'fields': {'co2': 89.48828732500817, 'humidity': 10.198491057366033, 'tvoc': 64.09347749127437, 'wetness': 39.69850711524353, 'temperature': 33.3176043041887}, 'tags': {'id': '0', 'user': 'umetsu'}}]\n",
      "[{'measurement': 'sensordata', 'fields': {'co2': 56.255277585411214, 'humidity': 72.75140074308133, 'tvoc': 79.78915562599785, 'wetness': 96.62056676050693, 'temperature': 26.103810696537987}, 'tags': {'id': '0', 'user': 'umetsu'}}]\n",
      "[{'measurement': 'sensordata', 'fields': {'co2': 73.05457018164549, 'humidity': 72.518810683722, 'tvoc': 3.050861463696619, 'wetness': 85.87748641710812, 'temperature': 79.61393260541126}, 'tags': {'id': '0', 'user': 'umetsu'}}]\n",
      "[{'measurement': 'sensordata', 'fields': {'co2': 79.89475112634818, 'humidity': 8.906178066664827, 'tvoc': 50.615633592121654, 'wetness': 25.253567021772728, 'temperature': 69.06432468284564}, 'tags': {'id': '0', 'user': 'umetsu'}}]\n",
      "[{'measurement': 'sensordata', 'fields': {'co2': 67.39532695292509, 'humidity': 78.18839235395991, 'tvoc': 22.799710800181415, 'wetness': 41.99791818057263, 'temperature': 65.52986520454309}, 'tags': {'id': '0', 'user': 'umetsu'}}]\n",
      "[{'measurement': 'sensordata', 'fields': {'co2': 8.455860056957555, 'humidity': 87.98434562031989, 'tvoc': 30.686294284867166, 'wetness': 16.166908979050742, 'temperature': 10.937880478792772}, 'tags': {'id': '0', 'user': 'umetsu'}}]\n",
      "[{'measurement': 'sensordata', 'fields': {'co2': 17.583868968077997, 'humidity': 97.90012114149572, 'tvoc': 24.228270971893984, 'wetness': 37.598733558457255, 'temperature': 41.57813156436049}, 'tags': {'id': '0', 'user': 'umetsu'}}]\n",
      "[{'measurement': 'sensordata', 'fields': {'co2': 50.13741124188462, 'humidity': 12.742838594237426, 'tvoc': 4.615197755340105, 'wetness': 48.99732747702926, 'temperature': 28.92328614709776}, 'tags': {'id': '0', 'user': 'umetsu'}}]\n",
      "[{'measurement': 'sensordata', 'fields': {'co2': 5.428170156771728, 'humidity': 84.30866089743668, 'tvoc': 20.082383366985745, 'wetness': 53.54071340474539, 'temperature': 86.43970457264335}, 'tags': {'id': '0', 'user': 'umetsu'}}]\n",
      "[{'measurement': 'sensordata', 'fields': {'co2': 9.789643668313463, 'humidity': 8.963525350225677, 'tvoc': 51.35754747064173, 'wetness': 35.51060549189569, 'temperature': 99.96173580792676}, 'tags': {'id': '0', 'user': 'umetsu'}}]\n",
      "[{'measurement': 'sensordata', 'fields': {'co2': 72.91895426163151, 'humidity': 79.91884504074424, 'tvoc': 26.541898992556256, 'wetness': 41.782687983593725, 'temperature': 1.377332072050308}, 'tags': {'id': '0', 'user': 'umetsu'}}]\n",
      "[{'measurement': 'sensordata', 'fields': {'co2': 91.62327279951225, 'humidity': 66.42824118370679, 'tvoc': 7.171443144782841, 'wetness': 1.3810055946624766, 'temperature': 88.38904569938275}, 'tags': {'id': '0', 'user': 'umetsu'}}]\n",
      "[{'measurement': 'sensordata', 'fields': {'co2': 81.46133548181702, 'humidity': 74.91813621791586, 'tvoc': 96.98498827413444, 'wetness': 0.8337520274579013, 'temperature': 9.077466910023869}, 'tags': {'id': '0', 'user': 'umetsu'}}]\n",
      "[{'measurement': 'sensordata', 'fields': {'co2': 89.47187687073078, 'humidity': 56.64727884741869, 'tvoc': 30.085611867656237, 'wetness': 12.053009921090407, 'temperature': 89.14913370530014}, 'tags': {'id': '0', 'user': 'umetsu'}}]\n",
      "[{'measurement': 'sensordata', 'fields': {'co2': 72.3131589913515, 'humidity': 20.80074012605574, 'tvoc': 40.02257289955384, 'wetness': 42.18440737011102, 'temperature': 26.892621725801558}, 'tags': {'id': '0', 'user': 'umetsu'}}]\n",
      "[{'measurement': 'sensordata', 'fields': {'co2': 31.77584692881932, 'humidity': 90.32802392372848, 'tvoc': 84.42436522022628, 'wetness': 67.08867834135197, 'temperature': 81.14543958980202}, 'tags': {'id': '0', 'user': 'umetsu'}}]\n",
      "[{'measurement': 'sensordata', 'fields': {'co2': 87.70174008441633, 'humidity': 68.44153340303721, 'tvoc': 60.24920956780192, 'wetness': 32.36538140167622, 'temperature': 66.13701462053118}, 'tags': {'id': '0', 'user': 'umetsu'}}]\n",
      "[{'measurement': 'sensordata', 'fields': {'co2': 6.8655162049537255, 'humidity': 76.11916829055829, 'tvoc': 81.82974156316918, 'wetness': 91.06108630320865, 'temperature': 16.99942416689599}, 'tags': {'id': '0', 'user': 'umetsu'}}]\n",
      "[{'measurement': 'sensordata', 'fields': {'co2': 54.259599187211585, 'humidity': 83.93225716222074, 'tvoc': 68.10252353693525, 'wetness': 87.88405569246443, 'temperature': 91.30976359623499}, 'tags': {'id': '0', 'user': 'umetsu'}}]\n",
      "[{'measurement': 'sensordata', 'fields': {'co2': 93.48195591780004, 'humidity': 3.604224509665832, 'tvoc': 57.43404528908182, 'wetness': 91.93677701245771, 'temperature': 84.19866732570087}, 'tags': {'id': '0', 'user': 'umetsu'}}]\n",
      "[{'measurement': 'sensordata', 'fields': {'co2': 43.32222174227176, 'humidity': 83.00409398585779, 'tvoc': 33.39346342160783, 'wetness': 30.1269358044425, 'temperature': 33.679598299994154}, 'tags': {'id': '0', 'user': 'umetsu'}}]\n",
      "[{'measurement': 'sensordata', 'fields': {'co2': 54.859029968740735, 'humidity': 5.269235418467733, 'tvoc': 2.9703777992060254, 'wetness': 14.571949403059614, 'temperature': 31.18400559845179}, 'tags': {'id': '0', 'user': 'umetsu'}}]\n",
      "[{'measurement': 'sensordata', 'fields': {'co2': 88.4796146203839, 'humidity': 9.201776604026557, 'tvoc': 47.319112359866565, 'wetness': 36.024443225561285, 'temperature': 24.588364635578653}, 'tags': {'id': '0', 'user': 'umetsu'}}]\n",
      "[{'measurement': 'sensordata', 'fields': {'co2': 93.28866166039833, 'humidity': 50.46777331859415, 'tvoc': 50.645024455283746, 'wetness': 96.92151190428103, 'temperature': 50.75340027065788}, 'tags': {'id': '0', 'user': 'umetsu'}}]\n",
      "[{'measurement': 'sensordata', 'fields': {'co2': 0.8684521775675802, 'humidity': 6.352919484063168, 'tvoc': 99.54857437252429, 'wetness': 2.952422006691313, 'temperature': 18.9386413265317}, 'tags': {'id': '0', 'user': 'umetsu'}}]\n",
      "[{'measurement': 'sensordata', 'fields': {'co2': 68.11186882881526, 'humidity': 74.06717280299603, 'tvoc': 41.15832368905746, 'wetness': 46.861367072921354, 'temperature': 45.20268189160371}, 'tags': {'id': '0', 'user': 'umetsu'}}]\n",
      "[{'measurement': 'sensordata', 'fields': {'co2': 70.0666181613577, 'humidity': 91.39909996598402, 'tvoc': 55.56839396948702, 'wetness': 60.66537878346918, 'temperature': 81.05752346235126}, 'tags': {'id': '0', 'user': 'umetsu'}}]\n",
      "[{'measurement': 'sensordata', 'fields': {'co2': 70.03027198330729, 'humidity': 94.99593224191254, 'tvoc': 55.40116851820943, 'wetness': 94.73681175739486, 'temperature': 37.1268139636715}, 'tags': {'id': '0', 'user': 'umetsu'}}]\n",
      "[{'measurement': 'sensordata', 'fields': {'co2': 76.06950926635493, 'humidity': 44.802318589351664, 'tvoc': 23.698694655061068, 'wetness': 85.82292153915897, 'temperature': 47.92773580424339}, 'tags': {'id': '0', 'user': 'umetsu'}}]\n",
      "[{'measurement': 'sensordata', 'fields': {'co2': 82.16284848352939, 'humidity': 94.79536542666489, 'tvoc': 5.083894060946481, 'wetness': 73.01242077261463, 'temperature': 70.18688015071177}, 'tags': {'id': '0', 'user': 'umetsu'}}]\n"
     ]
    },
    {
     "name": "stdout",
     "output_type": "stream",
     "text": [
      "[{'measurement': 'sensordata', 'fields': {'co2': 20.45831199570147, 'humidity': 4.068454119161058, 'tvoc': 40.65599601673535, 'wetness': 58.82519733721622, 'temperature': 16.017033105027302}, 'tags': {'id': '0', 'user': 'umetsu'}}]\n",
      "[{'measurement': 'sensordata', 'fields': {'co2': 78.39891799617796, 'humidity': 56.39601631634525, 'tvoc': 89.14569168541384, 'wetness': 38.129005010932474, 'temperature': 11.77948517770131}, 'tags': {'id': '0', 'user': 'umetsu'}}]\n",
      "[{'measurement': 'sensordata', 'fields': {'co2': 73.76536479721398, 'humidity': 38.26456400969852, 'tvoc': 16.51364075066456, 'wetness': 3.44764392033563, 'temperature': 79.64419400031312}, 'tags': {'id': '0', 'user': 'umetsu'}}]\n",
      "[{'measurement': 'sensordata', 'fields': {'co2': 79.95219338748241, 'humidity': 8.078503602608489, 'tvoc': 99.91648503743428, 'wetness': 10.721183693952451, 'temperature': 39.67659458714802}, 'tags': {'id': '0', 'user': 'umetsu'}}]\n",
      "[{'measurement': 'sensordata', 'fields': {'co2': 60.0200540704422, 'humidity': 5.016891449244754, 'tvoc': 11.668343023709294, 'wetness': 82.05674141159814, 'temperature': 69.7529327305079}, 'tags': {'id': '0', 'user': 'umetsu'}}]\n",
      "[{'measurement': 'sensordata', 'fields': {'co2': 79.73144811591413, 'humidity': 95.13873194821983, 'tvoc': 78.33986791240827, 'wetness': 26.74082730009415, 'temperature': 62.92944394013605}, 'tags': {'id': '0', 'user': 'umetsu'}}]\n",
      "[{'measurement': 'sensordata', 'fields': {'co2': 26.36933917010673, 'humidity': 14.030874657418268, 'tvoc': 59.35354487087686, 'wetness': 37.15353167252091, 'temperature': 30.256777984748307}, 'tags': {'id': '0', 'user': 'umetsu'}}]\n",
      "[{'measurement': 'sensordata', 'fields': {'co2': 64.11120078808878, 'humidity': 29.36889528079345, 'tvoc': 93.89580920736252, 'wetness': 5.663757455188434, 'temperature': 0.21100247201971678}, 'tags': {'id': '0', 'user': 'umetsu'}}]\n",
      "[{'measurement': 'sensordata', 'fields': {'co2': 13.18859098429719, 'humidity': 79.32387516137005, 'tvoc': 16.636376520957107, 'wetness': 2.88623659484063, 'temperature': 59.55471073453349}, 'tags': {'id': '0', 'user': 'umetsu'}}]\n",
      "[{'measurement': 'sensordata', 'fields': {'co2': 44.477058786567135, 'humidity': 47.29547507763117, 'tvoc': 47.13872428461118, 'wetness': 42.208426948123424, 'temperature': 9.69044949498955}, 'tags': {'id': '0', 'user': 'umetsu'}}]\n",
      "[{'measurement': 'sensordata', 'fields': {'co2': 85.91664731812779, 'humidity': 1.3748029511273963, 'tvoc': 77.3534760334974, 'wetness': 8.279215134333073, 'temperature': 51.79365187835682}, 'tags': {'id': '0', 'user': 'umetsu'}}]\n"
     ]
    }
   ],
   "source": [
    "from influxdb import InfluxDBClient\n",
    "import random\n",
    "from time import sleep\n",
    "\n",
    "\n",
    "i = 0\n",
    "for i in range(0,3600):\n",
    "\n",
    "    # クライアントのインスタンス作成\n",
    "    user = 'root'\n",
    "    password = 'root'\n",
    "    dbname = 'superdry'\n",
    "    host='influxdb'\n",
    "    port=8086\n",
    "\n",
    "    client = InfluxDBClient(host, port, user, password, dbname)\n",
    "\n",
    "    # データベース（なければ）作成\n",
    "    client.create_database(dbname)\n",
    "\n",
    "    # 送信内容\n",
    "    # json_body = [\n",
    "    #         {\n",
    "    #             \"measurement\": \"sensordata\",\n",
    "    #                 \"tags\": {\n",
    "    #                     \"user\": \"umetsu\",\n",
    "    #                     \"id\": \"0\"},\n",
    "    #             \"fields\": {\n",
    "    #                 \"temperature\": 1.0,\n",
    "    #                 \"humidity\":2.0,\n",
    "    #                 \"co2\":3.0,\n",
    "    #                 \"wetness\":\"4.0\",\n",
    "    #                 \"tvoc\":5.0\n",
    "    #             }\n",
    "    #         }\n",
    "    #     ]\n",
    "\n",
    "    json_body = [\n",
    "            {\n",
    "                \"measurement\": \"sensordata\",\n",
    "                    \"tags\": {\n",
    "                        \"user\": \"umetsu\",\n",
    "                        \"id\": \"0\"},\n",
    "                \"fields\": {\n",
    "                    \"temperature\": random.uniform(0.0,100.0),\n",
    "                    \"humidity\":random.uniform(0.0,100.0),\n",
    "                    \"co2\":random.uniform(0.0,100.0),\n",
    "                    \"wetness\":random.uniform(0.0,100.0),\n",
    "                    \"tvoc\":random.uniform(0.0,100.0)\n",
    "                }\n",
    "            }\n",
    "        ]\n",
    "\n",
    "    # 内容確認\n",
    "    print(json_body)\n",
    "\n",
    "    # 送信\n",
    "    client.write_points(json_body)\n",
    "    \n",
    "    i = i+1\n",
    "    \n",
    "    sleep(5)"
   ]
  },
  {
   "cell_type": "code",
   "execution_count": null,
   "metadata": {},
   "outputs": [],
   "source": []
  },
  {
   "cell_type": "code",
   "execution_count": null,
   "metadata": {},
   "outputs": [],
   "source": []
  },
  {
   "cell_type": "code",
   "execution_count": null,
   "metadata": {},
   "outputs": [],
   "source": []
  }
 ],
 "metadata": {
  "hide_input": false,
  "kernelspec": {
   "display_name": "Python 3",
   "language": "python",
   "name": "python3"
  },
  "language_info": {
   "codemirror_mode": {
    "name": "ipython",
    "version": 3
   },
   "file_extension": ".py",
   "mimetype": "text/x-python",
   "name": "python",
   "nbconvert_exporter": "python",
   "pygments_lexer": "ipython3",
   "version": "3.5.2"
  },
  "toc": {
   "base_numbering": 1,
   "nav_menu": {},
   "number_sections": true,
   "sideBar": true,
   "skip_h1_title": false,
   "title_cell": "Table of Contents",
   "title_sidebar": "Contents",
   "toc_cell": false,
   "toc_position": {},
   "toc_section_display": true,
   "toc_window_display": false
  },
  "varInspector": {
   "cols": {
    "lenName": 16,
    "lenType": 16,
    "lenVar": 40
   },
   "kernels_config": {
    "python": {
     "delete_cmd_postfix": "",
     "delete_cmd_prefix": "del ",
     "library": "var_list.py",
     "varRefreshCmd": "print(var_dic_list())"
    },
    "r": {
     "delete_cmd_postfix": ") ",
     "delete_cmd_prefix": "rm(",
     "library": "var_list.r",
     "varRefreshCmd": "cat(var_dic_list()) "
    }
   },
   "types_to_exclude": [
    "module",
    "function",
    "builtin_function_or_method",
    "instance",
    "_Feature"
   ],
   "window_display": false
  }
 },
 "nbformat": 4,
 "nbformat_minor": 2
}
