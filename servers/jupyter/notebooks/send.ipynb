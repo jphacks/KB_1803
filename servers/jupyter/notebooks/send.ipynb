{
 "cells": [
  {
   "cell_type": "code",
   "execution_count": null,
   "metadata": {},
   "outputs": [
    {
     "name": "stdout",
     "output_type": "stream",
     "text": [
      "[{'fields': {'humidity': 30.460925650458936, 'temperature': 63.934521838415684, 'wetness': 33.063619060465975, 'tvoc': 39.62086420032489, 'co2': 24.749785695909786}, 'tags': {'id': '0', 'user': 'umetsu'}, 'measurement': 'sensordata'}]\n",
      "[{'fields': {'humidity': 6.829745244897357, 'temperature': 22.678437181432898, 'wetness': 26.516492772339497, 'tvoc': 53.94284401976391, 'co2': 48.34210878227489}, 'tags': {'id': '0', 'user': 'umetsu'}, 'measurement': 'sensordata'}]\n",
      "[{'fields': {'humidity': 67.46923458192965, 'temperature': 28.66268876987953, 'wetness': 82.94890895411771, 'tvoc': 32.85844645317938, 'co2': 89.69198885614932}, 'tags': {'id': '0', 'user': 'umetsu'}, 'measurement': 'sensordata'}]\n",
      "[{'fields': {'humidity': 50.52184189852631, 'temperature': 10.470396537531833, 'wetness': 15.755194610275892, 'tvoc': 68.94877698555939, 'co2': 95.11772742563359}, 'tags': {'id': '0', 'user': 'umetsu'}, 'measurement': 'sensordata'}]\n",
      "[{'fields': {'humidity': 48.98567250047622, 'temperature': 42.7703460051966, 'wetness': 66.02775326228549, 'tvoc': 80.0227769200213, 'co2': 67.66071704836129}, 'tags': {'id': '0', 'user': 'umetsu'}, 'measurement': 'sensordata'}]\n",
      "[{'fields': {'humidity': 45.3591830800652, 'temperature': 37.93267168495229, 'wetness': 6.058839742701405, 'tvoc': 97.47337409094342, 'co2': 90.80807527269894}, 'tags': {'id': '0', 'user': 'umetsu'}, 'measurement': 'sensordata'}]\n",
      "[{'fields': {'humidity': 25.76464725535813, 'temperature': 42.33774084107368, 'wetness': 76.15597406153508, 'tvoc': 89.79058386821875, 'co2': 60.26033175526999}, 'tags': {'id': '0', 'user': 'umetsu'}, 'measurement': 'sensordata'}]\n",
      "[{'fields': {'humidity': 78.97974690329471, 'temperature': 10.164589201181428, 'wetness': 39.01269157124017, 'tvoc': 47.047553785997124, 'co2': 70.8681366299749}, 'tags': {'id': '0', 'user': 'umetsu'}, 'measurement': 'sensordata'}]\n",
      "[{'fields': {'humidity': 71.64702602008506, 'temperature': 73.03569079590663, 'wetness': 53.29517274777014, 'tvoc': 63.47932896259352, 'co2': 91.32800557941317}, 'tags': {'id': '0', 'user': 'umetsu'}, 'measurement': 'sensordata'}]\n",
      "[{'fields': {'humidity': 27.51322938569607, 'temperature': 54.71909037619719, 'wetness': 81.49414095957768, 'tvoc': 68.52156013818893, 'co2': 48.57854150695279}, 'tags': {'id': '0', 'user': 'umetsu'}, 'measurement': 'sensordata'}]\n",
      "[{'fields': {'humidity': 48.18209095437338, 'temperature': 86.84630609914207, 'wetness': 74.4598699102026, 'tvoc': 3.2604165229080384, 'co2': 2.1764395863442587}, 'tags': {'id': '0', 'user': 'umetsu'}, 'measurement': 'sensordata'}]\n",
      "[{'fields': {'humidity': 68.3312454039557, 'temperature': 42.348698278457476, 'wetness': 40.046266548210895, 'tvoc': 62.761552365873676, 'co2': 2.596125394206039}, 'tags': {'id': '0', 'user': 'umetsu'}, 'measurement': 'sensordata'}]\n",
      "[{'fields': {'humidity': 99.91506217551607, 'temperature': 25.286055854517375, 'wetness': 27.22450042575447, 'tvoc': 68.27820445245287, 'co2': 48.77910574758545}, 'tags': {'id': '0', 'user': 'umetsu'}, 'measurement': 'sensordata'}]\n",
      "[{'fields': {'humidity': 47.35322763139085, 'temperature': 89.89173600575849, 'wetness': 19.0099532750413, 'tvoc': 44.990168550092676, 'co2': 36.07306671497956}, 'tags': {'id': '0', 'user': 'umetsu'}, 'measurement': 'sensordata'}]\n",
      "[{'fields': {'humidity': 77.43678738912276, 'temperature': 55.176219777911825, 'wetness': 12.080465646723281, 'tvoc': 5.674842877593722, 'co2': 84.35395830046313}, 'tags': {'id': '0', 'user': 'umetsu'}, 'measurement': 'sensordata'}]\n",
      "[{'fields': {'humidity': 92.87688130844948, 'temperature': 79.70866544346268, 'wetness': 18.66531984100349, 'tvoc': 14.911034293358117, 'co2': 80.6019963413034}, 'tags': {'id': '0', 'user': 'umetsu'}, 'measurement': 'sensordata'}]\n",
      "[{'fields': {'humidity': 61.86557257982875, 'temperature': 69.58693354981578, 'wetness': 16.97706232858782, 'tvoc': 42.21635145612284, 'co2': 93.43505912948181}, 'tags': {'id': '0', 'user': 'umetsu'}, 'measurement': 'sensordata'}]\n",
      "[{'fields': {'humidity': 37.05311115975669, 'temperature': 56.88398132672773, 'wetness': 81.24795365624517, 'tvoc': 81.76824131638112, 'co2': 99.53482161945675}, 'tags': {'id': '0', 'user': 'umetsu'}, 'measurement': 'sensordata'}]\n",
      "[{'fields': {'humidity': 96.27069196824357, 'temperature': 81.41395092698149, 'wetness': 97.1500525637343, 'tvoc': 76.46200956306608, 'co2': 76.11711307535602}, 'tags': {'id': '0', 'user': 'umetsu'}, 'measurement': 'sensordata'}]\n",
      "[{'fields': {'humidity': 68.71418797320406, 'temperature': 13.047721920870226, 'wetness': 83.32847148453875, 'tvoc': 91.07460627477775, 'co2': 17.790244924703014}, 'tags': {'id': '0', 'user': 'umetsu'}, 'measurement': 'sensordata'}]\n",
      "[{'fields': {'humidity': 96.31765321526572, 'temperature': 66.50731578435355, 'wetness': 88.95263039555293, 'tvoc': 27.483842832239603, 'co2': 80.5750127304438}, 'tags': {'id': '0', 'user': 'umetsu'}, 'measurement': 'sensordata'}]\n",
      "[{'fields': {'humidity': 11.207357517497496, 'temperature': 85.30029186376447, 'wetness': 34.15497875142846, 'tvoc': 84.85976904769265, 'co2': 49.590032775713}, 'tags': {'id': '0', 'user': 'umetsu'}, 'measurement': 'sensordata'}]\n",
      "[{'fields': {'humidity': 51.50550368886518, 'temperature': 12.312974282433775, 'wetness': 9.887743643160164, 'tvoc': 84.24999055056631, 'co2': 92.64980845837556}, 'tags': {'id': '0', 'user': 'umetsu'}, 'measurement': 'sensordata'}]\n",
      "[{'fields': {'humidity': 36.465706312313706, 'temperature': 37.06244240453137, 'wetness': 66.48652850256586, 'tvoc': 12.047733619278434, 'co2': 16.719091681610298}, 'tags': {'id': '0', 'user': 'umetsu'}, 'measurement': 'sensordata'}]\n",
      "[{'fields': {'humidity': 98.12542251348734, 'temperature': 52.91751012245663, 'wetness': 82.05070030485469, 'tvoc': 3.1243318122426977, 'co2': 4.01760431147321}, 'tags': {'id': '0', 'user': 'umetsu'}, 'measurement': 'sensordata'}]\n",
      "[{'fields': {'humidity': 36.03198427369411, 'temperature': 23.946409406369728, 'wetness': 88.19133094444595, 'tvoc': 56.099240497418215, 'co2': 84.83383783486971}, 'tags': {'id': '0', 'user': 'umetsu'}, 'measurement': 'sensordata'}]\n",
      "[{'fields': {'humidity': 53.188100282045895, 'temperature': 87.00348220266636, 'wetness': 15.45378005917013, 'tvoc': 3.0183626718195633, 'co2': 56.54861395754553}, 'tags': {'id': '0', 'user': 'umetsu'}, 'measurement': 'sensordata'}]\n",
      "[{'fields': {'humidity': 28.798321747098075, 'temperature': 66.35135267775334, 'wetness': 40.60375879295627, 'tvoc': 16.856379115817923, 'co2': 88.2608061756023}, 'tags': {'id': '0', 'user': 'umetsu'}, 'measurement': 'sensordata'}]\n",
      "[{'fields': {'humidity': 34.07010229115941, 'temperature': 15.44928451104478, 'wetness': 5.6365635430621115, 'tvoc': 45.88664202474657, 'co2': 96.02659635881612}, 'tags': {'id': '0', 'user': 'umetsu'}, 'measurement': 'sensordata'}]\n",
      "[{'fields': {'humidity': 98.41092684181683, 'temperature': 70.75716225862926, 'wetness': 90.4299395444825, 'tvoc': 54.074378854277796, 'co2': 32.585754139471035}, 'tags': {'id': '0', 'user': 'umetsu'}, 'measurement': 'sensordata'}]\n",
      "[{'fields': {'humidity': 0.07219430426381734, 'temperature': 62.560049961378105, 'wetness': 3.9251394169664056, 'tvoc': 18.65244093409175, 'co2': 74.9999435923026}, 'tags': {'id': '0', 'user': 'umetsu'}, 'measurement': 'sensordata'}]\n",
      "[{'fields': {'humidity': 61.43034825212542, 'temperature': 89.73112045931852, 'wetness': 85.05315244504844, 'tvoc': 61.454071628753184, 'co2': 24.96666251536599}, 'tags': {'id': '0', 'user': 'umetsu'}, 'measurement': 'sensordata'}]\n",
      "[{'fields': {'humidity': 48.05333523663228, 'temperature': 10.125180837700377, 'wetness': 63.442597713421165, 'tvoc': 41.63596170602324, 'co2': 32.787356949043776}, 'tags': {'id': '0', 'user': 'umetsu'}, 'measurement': 'sensordata'}]\n",
      "[{'fields': {'humidity': 28.023361872736906, 'temperature': 99.8323694909769, 'wetness': 82.78053603650278, 'tvoc': 35.18599051217382, 'co2': 77.84394569113557}, 'tags': {'id': '0', 'user': 'umetsu'}, 'measurement': 'sensordata'}]\n",
      "[{'fields': {'humidity': 44.54757409664428, 'temperature': 99.71737483218936, 'wetness': 24.164468936769758, 'tvoc': 37.103715331984574, 'co2': 15.848130448718278}, 'tags': {'id': '0', 'user': 'umetsu'}, 'measurement': 'sensordata'}]\n",
      "[{'fields': {'humidity': 23.65703567156354, 'temperature': 92.94108773073788, 'wetness': 39.64393578965121, 'tvoc': 22.999421128983354, 'co2': 7.661457651390546}, 'tags': {'id': '0', 'user': 'umetsu'}, 'measurement': 'sensordata'}]\n"
     ]
    },
    {
     "name": "stdout",
     "output_type": "stream",
     "text": [
      "[{'fields': {'humidity': 70.87145500326328, 'temperature': 94.24736040047887, 'wetness': 52.60723568749304, 'tvoc': 47.846661667562906, 'co2': 37.316049595089716}, 'tags': {'id': '0', 'user': 'umetsu'}, 'measurement': 'sensordata'}]\n",
      "[{'fields': {'humidity': 58.26004920903931, 'temperature': 23.853633099308023, 'wetness': 67.19663131755024, 'tvoc': 80.99895355361392, 'co2': 94.99147432258306}, 'tags': {'id': '0', 'user': 'umetsu'}, 'measurement': 'sensordata'}]\n",
      "[{'fields': {'humidity': 16.322366846499047, 'temperature': 15.8772823389429, 'wetness': 55.139837413540626, 'tvoc': 82.51162818200636, 'co2': 39.725921357177974}, 'tags': {'id': '0', 'user': 'umetsu'}, 'measurement': 'sensordata'}]\n",
      "[{'fields': {'humidity': 77.61895545852707, 'temperature': 26.47330687234557, 'wetness': 98.39169151408359, 'tvoc': 15.915854532407769, 'co2': 13.776676861614213}, 'tags': {'id': '0', 'user': 'umetsu'}, 'measurement': 'sensordata'}]\n",
      "[{'fields': {'humidity': 5.148504681496213, 'temperature': 88.09276725994424, 'wetness': 40.9534384780929, 'tvoc': 28.34414195703856, 'co2': 0.4101912214850123}, 'tags': {'id': '0', 'user': 'umetsu'}, 'measurement': 'sensordata'}]\n",
      "[{'fields': {'humidity': 58.30541891626895, 'temperature': 31.92389735406693, 'wetness': 33.735081304478854, 'tvoc': 77.66715423436823, 'co2': 47.21579234367359}, 'tags': {'id': '0', 'user': 'umetsu'}, 'measurement': 'sensordata'}]\n",
      "[{'fields': {'humidity': 3.128260170048469, 'temperature': 2.2619221439430404, 'wetness': 26.13090488178894, 'tvoc': 6.782992733462379, 'co2': 56.07566196580252}, 'tags': {'id': '0', 'user': 'umetsu'}, 'measurement': 'sensordata'}]\n",
      "[{'fields': {'humidity': 71.64012601405402, 'temperature': 84.73446078390094, 'wetness': 14.107422660071256, 'tvoc': 78.80509060441459, 'co2': 8.88488096200184}, 'tags': {'id': '0', 'user': 'umetsu'}, 'measurement': 'sensordata'}]\n",
      "[{'fields': {'humidity': 66.86438754981427, 'temperature': 88.24642279348923, 'wetness': 67.30708916550415, 'tvoc': 35.466211726479024, 'co2': 3.795540304776057}, 'tags': {'id': '0', 'user': 'umetsu'}, 'measurement': 'sensordata'}]\n",
      "[{'fields': {'humidity': 59.670158269966734, 'temperature': 62.371372497807954, 'wetness': 24.78834901118806, 'tvoc': 34.267315906012044, 'co2': 87.75734040057888}, 'tags': {'id': '0', 'user': 'umetsu'}, 'measurement': 'sensordata'}]\n",
      "[{'fields': {'humidity': 96.91383698723493, 'temperature': 98.0150078905457, 'wetness': 2.628224528757672, 'tvoc': 2.4628306562185953, 'co2': 66.83936290007536}, 'tags': {'id': '0', 'user': 'umetsu'}, 'measurement': 'sensordata'}]\n",
      "[{'fields': {'humidity': 86.45000517373866, 'temperature': 78.01399437818381, 'wetness': 78.38779119516978, 'tvoc': 20.693907195799945, 'co2': 26.60189012293288}, 'tags': {'id': '0', 'user': 'umetsu'}, 'measurement': 'sensordata'}]\n",
      "[{'fields': {'humidity': 50.801762077096605, 'temperature': 88.49469276401204, 'wetness': 80.03324117063919, 'tvoc': 28.77264723578482, 'co2': 58.3568177540502}, 'tags': {'id': '0', 'user': 'umetsu'}, 'measurement': 'sensordata'}]\n",
      "[{'fields': {'humidity': 14.439865044078825, 'temperature': 27.5839636336886, 'wetness': 30.769007504351286, 'tvoc': 50.44075409515321, 'co2': 74.93225410123287}, 'tags': {'id': '0', 'user': 'umetsu'}, 'measurement': 'sensordata'}]\n",
      "[{'fields': {'humidity': 50.42943280921314, 'temperature': 8.432180777030474, 'wetness': 51.122285538671065, 'tvoc': 17.707477577915075, 'co2': 68.25978165096423}, 'tags': {'id': '0', 'user': 'umetsu'}, 'measurement': 'sensordata'}]\n",
      "[{'fields': {'humidity': 53.825005963094966, 'temperature': 49.985980142945486, 'wetness': 37.55186905530582, 'tvoc': 59.11980013341117, 'co2': 73.65508266433054}, 'tags': {'id': '0', 'user': 'umetsu'}, 'measurement': 'sensordata'}]\n",
      "[{'fields': {'humidity': 73.18572309498205, 'temperature': 0.29884761810268223, 'wetness': 14.304335697214865, 'tvoc': 90.68230289771383, 'co2': 16.350517806047016}, 'tags': {'id': '0', 'user': 'umetsu'}, 'measurement': 'sensordata'}]\n",
      "[{'fields': {'humidity': 38.02391527928722, 'temperature': 52.656114505968446, 'wetness': 53.9123965430412, 'tvoc': 50.58058625224325, 'co2': 9.150541007617674}, 'tags': {'id': '0', 'user': 'umetsu'}, 'measurement': 'sensordata'}]\n",
      "[{'fields': {'humidity': 5.414771306013089, 'temperature': 55.43956902080056, 'wetness': 26.841386866277126, 'tvoc': 57.92276674352873, 'co2': 36.00770866832592}, 'tags': {'id': '0', 'user': 'umetsu'}, 'measurement': 'sensordata'}]\n"
     ]
    }
   ],
   "source": [
    "from influxdb import InfluxDBClient\n",
    "import random\n",
    "from time import sleep\n",
    "\n",
    "\n",
    "i = 0\n",
    "for i in range(0,3600):\n",
    "\n",
    "    # クライアントのインスタンス作成\n",
    "    user = 'root'\n",
    "    password = 'root'\n",
    "    dbname = 'superdry'\n",
    "    host='influxdb'\n",
    "    port=8086\n",
    "\n",
    "    client = InfluxDBClient(host, port, user, password, dbname)\n",
    "\n",
    "    # データベース（なければ）作成\n",
    "    client.create_database(dbname)\n",
    "\n",
    "    # 送信内容\n",
    "    # json_body = [\n",
    "    #         {\n",
    "    #             \"measurement\": \"sensordata\",\n",
    "    #                 \"tags\": {\n",
    "    #                     \"user\": \"umetsu\",\n",
    "    #                     \"id\": \"0\"},\n",
    "    #             \"fields\": {\n",
    "    #                 \"temperature\": 1.0,\n",
    "    #                 \"humidity\":2.0,\n",
    "    #                 \"co2\":3.0,\n",
    "    #                 \"wetness\":\"4.0\",\n",
    "    #                 \"tvoc\":5.0\n",
    "    #             }\n",
    "    #         }\n",
    "    #     ]\n",
    "\n",
    "    json_body = [\n",
    "            {\n",
    "                \"measurement\": \"sensordata\",\n",
    "                    \"tags\": {\n",
    "                        \"user\": \"umetsu\",\n",
    "                        \"id\": \"0\"},\n",
    "                \"fields\": {\n",
    "                    \"temperature\": random.uniform(0.0,100.0),\n",
    "                    \"humidity\":random.uniform(0.0,100.0),\n",
    "                    \"co2\":random.uniform(0.0,100.0),\n",
    "                    \"wetness\":random.uniform(0.0,100.0),\n",
    "                    \"tvoc\":random.uniform(0.0,100.0)\n",
    "                }\n",
    "            }\n",
    "        ]\n",
    "\n",
    "    # 内容確認\n",
    "    print(json_body)\n",
    "\n",
    "    # 送信\n",
    "    client.write_points(json_body)\n",
    "    \n",
    "    i = i+1\n",
    "    \n",
    "    sleep(5)"
   ]
  },
  {
   "cell_type": "code",
   "execution_count": null,
   "metadata": {},
   "outputs": [],
   "source": []
  },
  {
   "cell_type": "code",
   "execution_count": null,
   "metadata": {},
   "outputs": [],
   "source": []
  },
  {
   "cell_type": "code",
   "execution_count": null,
   "metadata": {},
   "outputs": [],
   "source": []
  }
 ],
 "metadata": {
  "hide_input": false,
  "kernelspec": {
   "display_name": "Python 3",
   "language": "python",
   "name": "python3"
  },
  "language_info": {
   "codemirror_mode": {
    "name": "ipython",
    "version": 3
   },
   "file_extension": ".py",
   "mimetype": "text/x-python",
   "name": "python",
   "nbconvert_exporter": "python",
   "pygments_lexer": "ipython3",
   "version": "3.5.2"
  },
  "toc": {
   "base_numbering": 1,
   "nav_menu": {},
   "number_sections": true,
   "sideBar": true,
   "skip_h1_title": false,
   "title_cell": "Table of Contents",
   "title_sidebar": "Contents",
   "toc_cell": false,
   "toc_position": {},
   "toc_section_display": true,
   "toc_window_display": false
  },
  "varInspector": {
   "cols": {
    "lenName": 16,
    "lenType": 16,
    "lenVar": 40
   },
   "kernels_config": {
    "python": {
     "delete_cmd_postfix": "",
     "delete_cmd_prefix": "del ",
     "library": "var_list.py",
     "varRefreshCmd": "print(var_dic_list())"
    },
    "r": {
     "delete_cmd_postfix": ") ",
     "delete_cmd_prefix": "rm(",
     "library": "var_list.r",
     "varRefreshCmd": "cat(var_dic_list()) "
    }
   },
   "types_to_exclude": [
    "module",
    "function",
    "builtin_function_or_method",
    "instance",
    "_Feature"
   ],
   "window_display": false
  }
 },
 "nbformat": 4,
 "nbformat_minor": 2
}
