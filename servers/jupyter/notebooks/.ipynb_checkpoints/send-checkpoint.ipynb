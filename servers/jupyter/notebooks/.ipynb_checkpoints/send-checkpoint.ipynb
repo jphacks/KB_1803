{
 "cells": [
  {
   "cell_type": "code",
   "execution_count": null,
   "metadata": {},
   "outputs": [
    {
     "name": "stdout",
     "output_type": "stream",
     "text": [
      "[{'measurement': 'sensordata', 'tags': {'id': '0', 'user': 'umetsu'}, 'fields': {'wetness': 83, 'temperature': 19, 'tvoc': 32, 'humidity': 44, 'co2': 86}}]\n",
      "[{'measurement': 'sensordata', 'tags': {'id': '0', 'user': 'umetsu'}, 'fields': {'wetness': 17, 'temperature': 8, 'tvoc': 22, 'humidity': 44, 'co2': 57}}]\n",
      "[{'measurement': 'sensordata', 'tags': {'id': '0', 'user': 'umetsu'}, 'fields': {'wetness': 84, 'temperature': 41, 'tvoc': 89, 'humidity': 39, 'co2': 12}}]\n",
      "[{'measurement': 'sensordata', 'tags': {'id': '0', 'user': 'umetsu'}, 'fields': {'wetness': 52, 'temperature': 77, 'tvoc': 14, 'humidity': 45, 'co2': 57}}]\n",
      "[{'measurement': 'sensordata', 'tags': {'id': '0', 'user': 'umetsu'}, 'fields': {'wetness': 55, 'temperature': 47, 'tvoc': 15, 'humidity': 67, 'co2': 59}}]\n",
      "[{'measurement': 'sensordata', 'tags': {'id': '0', 'user': 'umetsu'}, 'fields': {'wetness': 42, 'temperature': 49, 'tvoc': 33, 'humidity': 21, 'co2': 86}}]\n",
      "[{'measurement': 'sensordata', 'tags': {'id': '0', 'user': 'umetsu'}, 'fields': {'wetness': 1, 'temperature': 73, 'tvoc': 74, 'humidity': 39, 'co2': 43}}]\n",
      "[{'measurement': 'sensordata', 'tags': {'id': '0', 'user': 'umetsu'}, 'fields': {'wetness': 38, 'temperature': 66, 'tvoc': 8, 'humidity': 21, 'co2': 59}}]\n",
      "[{'measurement': 'sensordata', 'tags': {'id': '0', 'user': 'umetsu'}, 'fields': {'wetness': 2, 'temperature': 20, 'tvoc': 36, 'humidity': 54, 'co2': 16}}]\n",
      "[{'measurement': 'sensordata', 'tags': {'id': '0', 'user': 'umetsu'}, 'fields': {'wetness': 47, 'temperature': 15, 'tvoc': 44, 'humidity': 60, 'co2': 45}}]\n",
      "[{'measurement': 'sensordata', 'tags': {'id': '0', 'user': 'umetsu'}, 'fields': {'wetness': 14, 'temperature': 99, 'tvoc': 21, 'humidity': 55, 'co2': 82}}]\n",
      "[{'measurement': 'sensordata', 'tags': {'id': '0', 'user': 'umetsu'}, 'fields': {'wetness': 71, 'temperature': 78, 'tvoc': 62, 'humidity': 82, 'co2': 49}}]\n",
      "[{'measurement': 'sensordata', 'tags': {'id': '0', 'user': 'umetsu'}, 'fields': {'wetness': 22, 'temperature': 94, 'tvoc': 59, 'humidity': 85, 'co2': 63}}]\n",
      "[{'measurement': 'sensordata', 'tags': {'id': '0', 'user': 'umetsu'}, 'fields': {'wetness': 91, 'temperature': 46, 'tvoc': 53, 'humidity': 66, 'co2': 56}}]\n",
      "[{'measurement': 'sensordata', 'tags': {'id': '0', 'user': 'umetsu'}, 'fields': {'wetness': 20, 'temperature': 39, 'tvoc': 73, 'humidity': 8, 'co2': 99}}]\n",
      "[{'measurement': 'sensordata', 'tags': {'id': '0', 'user': 'umetsu'}, 'fields': {'wetness': 13, 'temperature': 20, 'tvoc': 54, 'humidity': 77, 'co2': 80}}]\n",
      "[{'measurement': 'sensordata', 'tags': {'id': '0', 'user': 'umetsu'}, 'fields': {'wetness': 48, 'temperature': 36, 'tvoc': 3, 'humidity': 0, 'co2': 62}}]\n",
      "[{'measurement': 'sensordata', 'tags': {'id': '0', 'user': 'umetsu'}, 'fields': {'wetness': 97, 'temperature': 64, 'tvoc': 68, 'humidity': 53, 'co2': 64}}]\n",
      "[{'measurement': 'sensordata', 'tags': {'id': '0', 'user': 'umetsu'}, 'fields': {'wetness': 59, 'temperature': 55, 'tvoc': 38, 'humidity': 11, 'co2': 80}}]\n",
      "[{'measurement': 'sensordata', 'tags': {'id': '0', 'user': 'umetsu'}, 'fields': {'wetness': 54, 'temperature': 78, 'tvoc': 35, 'humidity': 21, 'co2': 46}}]\n",
      "[{'measurement': 'sensordata', 'tags': {'id': '0', 'user': 'umetsu'}, 'fields': {'wetness': 21, 'temperature': 85, 'tvoc': 32, 'humidity': 85, 'co2': 28}}]\n",
      "[{'measurement': 'sensordata', 'tags': {'id': '0', 'user': 'umetsu'}, 'fields': {'wetness': 33, 'temperature': 59, 'tvoc': 19, 'humidity': 83, 'co2': 11}}]\n",
      "[{'measurement': 'sensordata', 'tags': {'id': '0', 'user': 'umetsu'}, 'fields': {'wetness': 1, 'temperature': 52, 'tvoc': 49, 'humidity': 26, 'co2': 69}}]\n",
      "[{'measurement': 'sensordata', 'tags': {'id': '0', 'user': 'umetsu'}, 'fields': {'wetness': 23, 'temperature': 31, 'tvoc': 57, 'humidity': 11, 'co2': 63}}]\n",
      "[{'measurement': 'sensordata', 'tags': {'id': '0', 'user': 'umetsu'}, 'fields': {'wetness': 78, 'temperature': 60, 'tvoc': 68, 'humidity': 92, 'co2': 37}}]\n",
      "[{'measurement': 'sensordata', 'tags': {'id': '0', 'user': 'umetsu'}, 'fields': {'wetness': 63, 'temperature': 22, 'tvoc': 57, 'humidity': 99, 'co2': 3}}]\n",
      "[{'measurement': 'sensordata', 'tags': {'id': '0', 'user': 'umetsu'}, 'fields': {'wetness': 98, 'temperature': 31, 'tvoc': 70, 'humidity': 89, 'co2': 54}}]\n",
      "[{'measurement': 'sensordata', 'tags': {'id': '0', 'user': 'umetsu'}, 'fields': {'wetness': 0, 'temperature': 5, 'tvoc': 67, 'humidity': 14, 'co2': 42}}]\n",
      "[{'measurement': 'sensordata', 'tags': {'id': '0', 'user': 'umetsu'}, 'fields': {'wetness': 86, 'temperature': 48, 'tvoc': 62, 'humidity': 13, 'co2': 66}}]\n",
      "[{'measurement': 'sensordata', 'tags': {'id': '0', 'user': 'umetsu'}, 'fields': {'wetness': 9, 'temperature': 33, 'tvoc': 28, 'humidity': 50, 'co2': 42}}]\n",
      "[{'measurement': 'sensordata', 'tags': {'id': '0', 'user': 'umetsu'}, 'fields': {'wetness': 78, 'temperature': 22, 'tvoc': 19, 'humidity': 13, 'co2': 16}}]\n",
      "[{'measurement': 'sensordata', 'tags': {'id': '0', 'user': 'umetsu'}, 'fields': {'wetness': 25, 'temperature': 15, 'tvoc': 6, 'humidity': 44, 'co2': 66}}]\n",
      "[{'measurement': 'sensordata', 'tags': {'id': '0', 'user': 'umetsu'}, 'fields': {'wetness': 80, 'temperature': 22, 'tvoc': 24, 'humidity': 32, 'co2': 77}}]\n",
      "[{'measurement': 'sensordata', 'tags': {'id': '0', 'user': 'umetsu'}, 'fields': {'wetness': 88, 'temperature': 68, 'tvoc': 13, 'humidity': 64, 'co2': 10}}]\n",
      "[{'measurement': 'sensordata', 'tags': {'id': '0', 'user': 'umetsu'}, 'fields': {'wetness': 18, 'temperature': 65, 'tvoc': 17, 'humidity': 51, 'co2': 41}}]\n",
      "[{'measurement': 'sensordata', 'tags': {'id': '0', 'user': 'umetsu'}, 'fields': {'wetness': 72, 'temperature': 21, 'tvoc': 28, 'humidity': 79, 'co2': 97}}]\n",
      "[{'measurement': 'sensordata', 'tags': {'id': '0', 'user': 'umetsu'}, 'fields': {'wetness': 92, 'temperature': 44, 'tvoc': 69, 'humidity': 89, 'co2': 14}}]\n",
      "[{'measurement': 'sensordata', 'tags': {'id': '0', 'user': 'umetsu'}, 'fields': {'wetness': 16, 'temperature': 62, 'tvoc': 36, 'humidity': 61, 'co2': 72}}]\n",
      "[{'measurement': 'sensordata', 'tags': {'id': '0', 'user': 'umetsu'}, 'fields': {'wetness': 85, 'temperature': 74, 'tvoc': 66, 'humidity': 60, 'co2': 46}}]\n",
      "[{'measurement': 'sensordata', 'tags': {'id': '0', 'user': 'umetsu'}, 'fields': {'wetness': 8, 'temperature': 64, 'tvoc': 23, 'humidity': 50, 'co2': 53}}]\n",
      "[{'measurement': 'sensordata', 'tags': {'id': '0', 'user': 'umetsu'}, 'fields': {'wetness': 44, 'temperature': 63, 'tvoc': 7, 'humidity': 62, 'co2': 10}}]\n",
      "[{'measurement': 'sensordata', 'tags': {'id': '0', 'user': 'umetsu'}, 'fields': {'wetness': 90, 'temperature': 41, 'tvoc': 25, 'humidity': 5, 'co2': 60}}]\n",
      "[{'measurement': 'sensordata', 'tags': {'id': '0', 'user': 'umetsu'}, 'fields': {'wetness': 77, 'temperature': 15, 'tvoc': 85, 'humidity': 99, 'co2': 55}}]\n",
      "[{'measurement': 'sensordata', 'tags': {'id': '0', 'user': 'umetsu'}, 'fields': {'wetness': 14, 'temperature': 11, 'tvoc': 64, 'humidity': 7, 'co2': 45}}]\n",
      "[{'measurement': 'sensordata', 'tags': {'id': '0', 'user': 'umetsu'}, 'fields': {'wetness': 34, 'temperature': 66, 'tvoc': 94, 'humidity': 97, 'co2': 23}}]\n",
      "[{'measurement': 'sensordata', 'tags': {'id': '0', 'user': 'umetsu'}, 'fields': {'wetness': 23, 'temperature': 97, 'tvoc': 98, 'humidity': 71, 'co2': 10}}]\n",
      "[{'measurement': 'sensordata', 'tags': {'id': '0', 'user': 'umetsu'}, 'fields': {'wetness': 97, 'temperature': 97, 'tvoc': 14, 'humidity': 15, 'co2': 71}}]\n",
      "[{'measurement': 'sensordata', 'tags': {'id': '0', 'user': 'umetsu'}, 'fields': {'wetness': 62, 'temperature': 40, 'tvoc': 9, 'humidity': 98, 'co2': 46}}]\n",
      "[{'measurement': 'sensordata', 'tags': {'id': '0', 'user': 'umetsu'}, 'fields': {'wetness': 20, 'temperature': 23, 'tvoc': 29, 'humidity': 19, 'co2': 5}}]\n",
      "[{'measurement': 'sensordata', 'tags': {'id': '0', 'user': 'umetsu'}, 'fields': {'wetness': 97, 'temperature': 82, 'tvoc': 10, 'humidity': 48, 'co2': 41}}]\n",
      "[{'measurement': 'sensordata', 'tags': {'id': '0', 'user': 'umetsu'}, 'fields': {'wetness': 26, 'temperature': 45, 'tvoc': 7, 'humidity': 94, 'co2': 42}}]\n",
      "[{'measurement': 'sensordata', 'tags': {'id': '0', 'user': 'umetsu'}, 'fields': {'wetness': 28, 'temperature': 19, 'tvoc': 40, 'humidity': 17, 'co2': 62}}]\n",
      "[{'measurement': 'sensordata', 'tags': {'id': '0', 'user': 'umetsu'}, 'fields': {'wetness': 24, 'temperature': 36, 'tvoc': 58, 'humidity': 28, 'co2': 11}}]\n"
     ]
    },
    {
     "name": "stdout",
     "output_type": "stream",
     "text": [
      "[{'measurement': 'sensordata', 'tags': {'id': '0', 'user': 'umetsu'}, 'fields': {'wetness': 6, 'temperature': 30, 'tvoc': 16, 'humidity': 74, 'co2': 21}}]\n",
      "[{'measurement': 'sensordata', 'tags': {'id': '0', 'user': 'umetsu'}, 'fields': {'wetness': 17, 'temperature': 38, 'tvoc': 35, 'humidity': 60, 'co2': 20}}]\n",
      "[{'measurement': 'sensordata', 'tags': {'id': '0', 'user': 'umetsu'}, 'fields': {'wetness': 29, 'temperature': 2, 'tvoc': 74, 'humidity': 61, 'co2': 23}}]\n",
      "[{'measurement': 'sensordata', 'tags': {'id': '0', 'user': 'umetsu'}, 'fields': {'wetness': 56, 'temperature': 13, 'tvoc': 40, 'humidity': 15, 'co2': 68}}]\n",
      "[{'measurement': 'sensordata', 'tags': {'id': '0', 'user': 'umetsu'}, 'fields': {'wetness': 80, 'temperature': 72, 'tvoc': 71, 'humidity': 45, 'co2': 64}}]\n",
      "[{'measurement': 'sensordata', 'tags': {'id': '0', 'user': 'umetsu'}, 'fields': {'wetness': 92, 'temperature': 24, 'tvoc': 99, 'humidity': 98, 'co2': 76}}]\n",
      "[{'measurement': 'sensordata', 'tags': {'id': '0', 'user': 'umetsu'}, 'fields': {'wetness': 31, 'temperature': 22, 'tvoc': 2, 'humidity': 23, 'co2': 87}}]\n",
      "[{'measurement': 'sensordata', 'tags': {'id': '0', 'user': 'umetsu'}, 'fields': {'wetness': 50, 'temperature': 15, 'tvoc': 92, 'humidity': 26, 'co2': 48}}]\n",
      "[{'measurement': 'sensordata', 'tags': {'id': '0', 'user': 'umetsu'}, 'fields': {'wetness': 82, 'temperature': 66, 'tvoc': 88, 'humidity': 80, 'co2': 6}}]\n",
      "[{'measurement': 'sensordata', 'tags': {'id': '0', 'user': 'umetsu'}, 'fields': {'wetness': 21, 'temperature': 46, 'tvoc': 16, 'humidity': 65, 'co2': 69}}]\n",
      "[{'measurement': 'sensordata', 'tags': {'id': '0', 'user': 'umetsu'}, 'fields': {'wetness': 61, 'temperature': 86, 'tvoc': 24, 'humidity': 61, 'co2': 74}}]\n"
     ]
    }
   ],
   "source": [
    "from influxdb import InfluxDBClient\n",
    "import random\n",
    "from time import sleep\n",
    "\n",
    "\n",
    "i = 0\n",
    "for i in range(0,3600):\n",
    "\n",
    "    # クライアントのインスタンス作成\n",
    "    user = 'root'\n",
    "    password = 'root'\n",
    "    dbname = 'superdry'\n",
    "    host='influxdb'\n",
    "    port=8086\n",
    "\n",
    "    client = InfluxDBClient(host, port, user, password, dbname)\n",
    "\n",
    "    # データベース（なければ）作成\n",
    "    client.create_database(dbname)\n",
    "\n",
    "    # 送信内容\n",
    "    # json_body = [\n",
    "    #         {\n",
    "    #             \"measurement\": \"sensordata\",\n",
    "    #                 \"tags\": {\n",
    "    #                     \"user\": \"umetsu\",\n",
    "    #                     \"id\": \"0\"},\n",
    "    #             \"fields\": {\n",
    "    #                 \"temperature\": 1.0,\n",
    "    #                 \"humidity\":2.0,\n",
    "    #                 \"co2\":3.0,\n",
    "    #                 \"wetness\":\"4.0\",\n",
    "    #                 \"tvoc\":5.0\n",
    "    #             }\n",
    "    #         }\n",
    "    #     ]\n",
    "\n",
    "    json_body = [\n",
    "            {\n",
    "                \"measurement\": \"sensordata\",\n",
    "                    \"tags\": {\n",
    "                        \"user\": \"umetsu\",\n",
    "                        \"id\": \"0\"},\n",
    "                \"fields\": {\n",
    "                    \"temperature\": int(random.uniform(0,100)),\n",
    "                    \"humidity\":int(random.uniform(0,100)),\n",
    "                    \"co2\":int(random.uniform(0,100)),\n",
    "                    \"wetness\":int(random.uniform(0,100)),\n",
    "                    \"tvoc\":int(random.uniform(0,100))\n",
    "                }\n",
    "            }\n",
    "        ]\n",
    "\n",
    "    # 内容確認\n",
    "    print(json_body)\n",
    "\n",
    "    # 送信\n",
    "    client.write_points(json_body)\n",
    "    \n",
    "    i = i+1\n",
    "    \n",
    "    sleep(1)"
   ]
  },
  {
   "cell_type": "code",
   "execution_count": null,
   "metadata": {},
   "outputs": [],
   "source": []
  },
  {
   "cell_type": "code",
   "execution_count": null,
   "metadata": {},
   "outputs": [],
   "source": []
  },
  {
   "cell_type": "code",
   "execution_count": null,
   "metadata": {},
   "outputs": [],
   "source": []
  }
 ],
 "metadata": {
  "hide_input": false,
  "kernelspec": {
   "display_name": "Python 3",
   "language": "python",
   "name": "python3"
  },
  "language_info": {
   "codemirror_mode": {
    "name": "ipython",
    "version": 3
   },
   "file_extension": ".py",
   "mimetype": "text/x-python",
   "name": "python",
   "nbconvert_exporter": "python",
   "pygments_lexer": "ipython3",
   "version": "3.5.2"
  },
  "toc": {
   "base_numbering": 1,
   "nav_menu": {},
   "number_sections": true,
   "sideBar": true,
   "skip_h1_title": false,
   "title_cell": "Table of Contents",
   "title_sidebar": "Contents",
   "toc_cell": false,
   "toc_position": {},
   "toc_section_display": true,
   "toc_window_display": false
  },
  "varInspector": {
   "cols": {
    "lenName": 16,
    "lenType": 16,
    "lenVar": 40
   },
   "kernels_config": {
    "python": {
     "delete_cmd_postfix": "",
     "delete_cmd_prefix": "del ",
     "library": "var_list.py",
     "varRefreshCmd": "print(var_dic_list())"
    },
    "r": {
     "delete_cmd_postfix": ") ",
     "delete_cmd_prefix": "rm(",
     "library": "var_list.r",
     "varRefreshCmd": "cat(var_dic_list()) "
    }
   },
   "types_to_exclude": [
    "module",
    "function",
    "builtin_function_or_method",
    "instance",
    "_Feature"
   ],
   "window_display": false
  }
 },
 "nbformat": 4,
 "nbformat_minor": 2
}
