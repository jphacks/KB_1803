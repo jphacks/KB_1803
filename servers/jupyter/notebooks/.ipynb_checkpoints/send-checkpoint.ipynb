{
 "cells": [
  {
   "cell_type": "code",
   "execution_count": 1,
   "metadata": {},
   "outputs": [
    {
     "name": "stdout",
     "output_type": "stream",
     "text": [
      "[{'tags': {'user': 'umetsu', 'id': '0'}, 'measurement': 'sensordata', 'fields': {'wetness': '95.34886590582423', 'humidity': 6.9336073297822765, 'co2': 0.42644744140560853, 'temperature': 53.376941264447275, 'tvco': 82.32198167531777}}]\n"
     ]
    },
    {
     "data": {
      "text/plain": [
       "True"
      ]
     },
     "execution_count": 1,
     "metadata": {},
     "output_type": "execute_result"
    }
   ],
   "source": [
    "from influxdb import InfluxDBClient\n",
    "import random\n",
    "\n",
    "\n",
    "# クライアントのインスタンス作成\n",
    "user = 'root'\n",
    "password = 'root'\n",
    "dbname = 'superdry'\n",
    "host='influxdb'\n",
    "port=8086\n",
    "client = InfluxDBClient(host, port, user, password, dbname)\n",
    "\n",
    "# データベース（なければ）作成\n",
    "client.create_database(dbname)\n",
    "\n",
    "\n",
    "#client = InfluxDBClient(\"telegraf, port,dbname)\n",
    "\n",
    "# 送信内容\n",
    "# json_body = [\n",
    "#         {\n",
    "#             \"measurement\": \"sensordata\",\n",
    "#                 \"tags\": {\n",
    "#                     \"user\": \"umetsu\",\n",
    "#                     \"id\": \"0\"},\n",
    "#             \"fields\": {\n",
    "#                 \"temperature\": 1.0,\n",
    "#                 \"humidity\":2.0,\n",
    "#                 \"co2\":3.0,\n",
    "#                 \"wetness\":\"4.0\",\n",
    "#                 \"tvco\":5.0\n",
    "#             }\n",
    "#         }\n",
    "#     ]\n",
    "\n",
    "json_body = [\n",
    "        {\n",
    "            \"measurement\": \"sensordata\",\n",
    "                \"tags\": {\n",
    "                    \"user\": \"umetsu\",\n",
    "                    \"id\": \"0\"},\n",
    "            \"fields\": {\n",
    "                \"temperature\": random.uniform(0.0,100.0),\n",
    "                \"humidity\":random.uniform(0.0,100.0),\n",
    "                \"co2\":random.uniform(0.0,100.0),\n",
    "                \"wetness\":str(random.uniform(0.0,100.0)),\n",
    "                \"tvco\":random.uniform(0.0,100.0)\n",
    "            }\n",
    "        }\n",
    "    ]\n",
    "\n",
    "# 内容確認\n",
    "print(json_body)\n",
    "\n",
    "# 送信\n",
    "client.write_points(json_body)"
   ]
  },
  {
   "cell_type": "code",
   "execution_count": null,
   "metadata": {},
   "outputs": [],
   "source": []
  }
 ],
 "metadata": {
  "hide_input": false,
  "kernelspec": {
   "display_name": "Python 3",
   "language": "python",
   "name": "python3"
  },
  "language_info": {
   "codemirror_mode": {
    "name": "ipython",
    "version": 3
   },
   "file_extension": ".py",
   "mimetype": "text/x-python",
   "name": "python",
   "nbconvert_exporter": "python",
   "pygments_lexer": "ipython3",
   "version": "3.5.2"
  },
  "toc": {
   "base_numbering": 1,
   "nav_menu": {},
   "number_sections": true,
   "sideBar": true,
   "skip_h1_title": false,
   "title_cell": "Table of Contents",
   "title_sidebar": "Contents",
   "toc_cell": false,
   "toc_position": {},
   "toc_section_display": true,
   "toc_window_display": false
  },
  "varInspector": {
   "cols": {
    "lenName": 16,
    "lenType": 16,
    "lenVar": 40
   },
   "kernels_config": {
    "python": {
     "delete_cmd_postfix": "",
     "delete_cmd_prefix": "del ",
     "library": "var_list.py",
     "varRefreshCmd": "print(var_dic_list())"
    },
    "r": {
     "delete_cmd_postfix": ") ",
     "delete_cmd_prefix": "rm(",
     "library": "var_list.r",
     "varRefreshCmd": "cat(var_dic_list()) "
    }
   },
   "types_to_exclude": [
    "module",
    "function",
    "builtin_function_or_method",
    "instance",
    "_Feature"
   ],
   "window_display": false
  }
 },
 "nbformat": 4,
 "nbformat_minor": 2
}
