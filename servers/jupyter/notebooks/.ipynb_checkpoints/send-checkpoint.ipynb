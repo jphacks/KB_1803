{
 "cells": [
  {
   "cell_type": "code",
   "execution_count": null,
   "metadata": {},
   "outputs": [
    {
     "name": "stdout",
     "output_type": "stream",
     "text": [
      "[{'tags': {'id': '0', 'user': 'umetsu'}, 'fields': {'temperature': 94.72815657200047, 'wetness': '95.07378888503337', 'humidity': 17.530318041574954, 'tvoc': 73.16031731543902, 'co2': 31.057225093291805}, 'measurement': 'sensordata'}]\n",
      "[{'tags': {'id': '0', 'user': 'umetsu'}, 'fields': {'temperature': 7.688145980969596, 'wetness': '2.2017385501733155', 'humidity': 7.269544494842983, 'tvoc': 44.17159324523057, 'co2': 97.45723710583272}, 'measurement': 'sensordata'}]\n",
      "[{'tags': {'id': '0', 'user': 'umetsu'}, 'fields': {'temperature': 87.27016621030539, 'wetness': '80.45733425136928', 'humidity': 3.5932010524593605, 'tvoc': 81.86604199372034, 'co2': 28.026856699895543}, 'measurement': 'sensordata'}]\n",
      "[{'tags': {'id': '0', 'user': 'umetsu'}, 'fields': {'temperature': 92.16693075831074, 'wetness': '57.060272054044944', 'humidity': 73.26108400857555, 'tvoc': 23.27902971628205, 'co2': 24.12371683290988}, 'measurement': 'sensordata'}]\n",
      "[{'tags': {'id': '0', 'user': 'umetsu'}, 'fields': {'temperature': 15.647176169756438, 'wetness': '70.10981219699563', 'humidity': 61.5258973469304, 'tvoc': 69.73353555263631, 'co2': 73.2476203139642}, 'measurement': 'sensordata'}]\n",
      "[{'tags': {'id': '0', 'user': 'umetsu'}, 'fields': {'temperature': 75.90405426673787, 'wetness': '11.133352133937946', 'humidity': 94.67688799533524, 'tvoc': 50.606189491576316, 'co2': 66.89835143616315}, 'measurement': 'sensordata'}]\n",
      "[{'tags': {'id': '0', 'user': 'umetsu'}, 'fields': {'temperature': 24.33172054568843, 'wetness': '41.38271829783291', 'humidity': 4.6693565511234265, 'tvoc': 12.145526808796136, 'co2': 9.126405667489001}, 'measurement': 'sensordata'}]\n",
      "[{'tags': {'id': '0', 'user': 'umetsu'}, 'fields': {'temperature': 88.84706704019666, 'wetness': '8.483248572896906', 'humidity': 63.47697564873588, 'tvoc': 29.05550297147442, 'co2': 72.519244533784}, 'measurement': 'sensordata'}]\n",
      "[{'tags': {'id': '0', 'user': 'umetsu'}, 'fields': {'temperature': 69.89612238239317, 'wetness': '65.93077374782057', 'humidity': 31.266987121010857, 'tvoc': 86.64544617128401, 'co2': 52.91929434937435}, 'measurement': 'sensordata'}]\n",
      "[{'tags': {'id': '0', 'user': 'umetsu'}, 'fields': {'temperature': 57.790824665999274, 'wetness': '20.010626473278325', 'humidity': 3.2506729176911997, 'tvoc': 41.135501664483485, 'co2': 5.989550038621283}, 'measurement': 'sensordata'}]\n",
      "[{'tags': {'id': '0', 'user': 'umetsu'}, 'fields': {'temperature': 3.4601822544951144, 'wetness': '46.675610545851754', 'humidity': 50.03049496742166, 'tvoc': 89.38362001352839, 'co2': 76.01758332653348}, 'measurement': 'sensordata'}]\n",
      "[{'tags': {'id': '0', 'user': 'umetsu'}, 'fields': {'temperature': 24.665901837101135, 'wetness': '33.11254824361135', 'humidity': 51.672573566161105, 'tvoc': 23.280037935769816, 'co2': 19.108130629649878}, 'measurement': 'sensordata'}]\n",
      "[{'tags': {'id': '0', 'user': 'umetsu'}, 'fields': {'temperature': 27.4229583472995, 'wetness': '55.938377240535466', 'humidity': 88.94754303377348, 'tvoc': 26.301509444419192, 'co2': 30.41036817917555}, 'measurement': 'sensordata'}]\n",
      "[{'tags': {'id': '0', 'user': 'umetsu'}, 'fields': {'temperature': 55.08489633115783, 'wetness': '67.95656578466216', 'humidity': 0.9523712708017329, 'tvoc': 79.4203373568771, 'co2': 37.12575661832533}, 'measurement': 'sensordata'}]\n",
      "[{'tags': {'id': '0', 'user': 'umetsu'}, 'fields': {'temperature': 13.979869025132864, 'wetness': '77.10516970571719', 'humidity': 96.81145313212443, 'tvoc': 87.97315657930123, 'co2': 40.65990019888017}, 'measurement': 'sensordata'}]\n",
      "[{'tags': {'id': '0', 'user': 'umetsu'}, 'fields': {'temperature': 36.943930280727514, 'wetness': '46.20155836351796', 'humidity': 79.56622061168319, 'tvoc': 70.35933515782692, 'co2': 56.42557509573935}, 'measurement': 'sensordata'}]\n",
      "[{'tags': {'id': '0', 'user': 'umetsu'}, 'fields': {'temperature': 13.12389002280816, 'wetness': '63.21881625893274', 'humidity': 93.62178749656994, 'tvoc': 84.95297840737888, 'co2': 57.72340514273581}, 'measurement': 'sensordata'}]\n",
      "[{'tags': {'id': '0', 'user': 'umetsu'}, 'fields': {'temperature': 66.9025778947182, 'wetness': '69.06263250072374', 'humidity': 65.80986950439109, 'tvoc': 1.2240539288313923, 'co2': 53.867513322670746}, 'measurement': 'sensordata'}]\n",
      "[{'tags': {'id': '0', 'user': 'umetsu'}, 'fields': {'temperature': 90.86996817250417, 'wetness': '41.102118815236466', 'humidity': 60.64674955768788, 'tvoc': 82.3885677983568, 'co2': 8.85190404688504}, 'measurement': 'sensordata'}]\n",
      "[{'tags': {'id': '0', 'user': 'umetsu'}, 'fields': {'temperature': 7.071482584389999, 'wetness': '70.6677894556501', 'humidity': 67.25585634718827, 'tvoc': 39.00241260016261, 'co2': 53.61928188409158}, 'measurement': 'sensordata'}]\n"
     ]
    }
   ],
   "source": [
    "from influxdb import InfluxDBClient\n",
    "import random\n",
    "from time import sleep\n",
    "\n",
    "\n",
    "i = 0\n",
    "for i in range(0,3600):\n",
    "\n",
    "    # クライアントのインスタンス作成\n",
    "    user = 'root'\n",
    "    password = 'root'\n",
    "    dbname = 'superdry'\n",
    "    host='influxdb'\n",
    "    port=8086\n",
    "\n",
    "    client = InfluxDBClient(host, port, user, password, dbname)\n",
    "\n",
    "    # データベース（なければ）作成\n",
    "    client.create_database(dbname)\n",
    "\n",
    "    # 送信内容\n",
    "    # json_body = [\n",
    "    #         {\n",
    "    #             \"measurement\": \"sensordata\",\n",
    "    #                 \"tags\": {\n",
    "    #                     \"user\": \"umetsu\",\n",
    "    #                     \"id\": \"0\"},\n",
    "    #             \"fields\": {\n",
    "    #                 \"temperature\": 1.0,\n",
    "    #                 \"humidity\":2.0,\n",
    "    #                 \"co2\":3.0,\n",
    "    #                 \"wetness\":\"4.0\",\n",
    "    #                 \"tvoc\":5.0\n",
    "    #             }\n",
    "    #         }\n",
    "    #     ]\n",
    "\n",
    "    json_body = [\n",
    "            {\n",
    "                \"measurement\": \"sensordata\",\n",
    "                    \"tags\": {\n",
    "                        \"user\": \"umetsu\",\n",
    "                        \"id\": \"0\"},\n",
    "                \"fields\": {\n",
    "                    \"temperature\": random.uniform(0.0,100.0),\n",
    "                    \"humidity\":random.uniform(0.0,100.0),\n",
    "                    \"co2\":random.uniform(0.0,100.0),\n",
    "                    \"wetness\":random.uniform(0.0,100.0),\n",
    "                    \"tvoc\":random.uniform(0.0,100.0)\n",
    "                }\n",
    "            }\n",
    "        ]\n",
    "\n",
    "    # 内容確認\n",
    "    print(json_body)\n",
    "\n",
    "    # 送信\n",
    "    client.write_points(json_body)\n",
    "    \n",
    "    i = i+1\n",
    "    \n",
    "    sleep(5)"
   ]
  },
  {
   "cell_type": "code",
   "execution_count": null,
   "metadata": {},
   "outputs": [],
   "source": []
  },
  {
   "cell_type": "code",
   "execution_count": null,
   "metadata": {},
   "outputs": [],
   "source": []
  },
  {
   "cell_type": "code",
   "execution_count": null,
   "metadata": {},
   "outputs": [],
   "source": []
  }
 ],
 "metadata": {
  "hide_input": false,
  "kernelspec": {
   "display_name": "Python 3",
   "language": "python",
   "name": "python3"
  },
  "language_info": {
   "codemirror_mode": {
    "name": "ipython",
    "version": 3
   },
   "file_extension": ".py",
   "mimetype": "text/x-python",
   "name": "python",
   "nbconvert_exporter": "python",
   "pygments_lexer": "ipython3",
   "version": "3.5.2"
  },
  "toc": {
   "base_numbering": 1,
   "nav_menu": {},
   "number_sections": true,
   "sideBar": true,
   "skip_h1_title": false,
   "title_cell": "Table of Contents",
   "title_sidebar": "Contents",
   "toc_cell": false,
   "toc_position": {},
   "toc_section_display": true,
   "toc_window_display": false
  },
  "varInspector": {
   "cols": {
    "lenName": 16,
    "lenType": 16,
    "lenVar": 40
   },
   "kernels_config": {
    "python": {
     "delete_cmd_postfix": "",
     "delete_cmd_prefix": "del ",
     "library": "var_list.py",
     "varRefreshCmd": "print(var_dic_list())"
    },
    "r": {
     "delete_cmd_postfix": ") ",
     "delete_cmd_prefix": "rm(",
     "library": "var_list.r",
     "varRefreshCmd": "cat(var_dic_list()) "
    }
   },
   "types_to_exclude": [
    "module",
    "function",
    "builtin_function_or_method",
    "instance",
    "_Feature"
   ],
   "window_display": false
  }
 },
 "nbformat": 4,
 "nbformat_minor": 2
}
